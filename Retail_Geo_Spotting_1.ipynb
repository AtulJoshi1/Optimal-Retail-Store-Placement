{
  "nbformat": 4,
  "nbformat_minor": 0,
  "metadata": {
    "colab": {
      "name": "Retail Geo Spotting_1.ipynb",
      "provenance": [],
      "collapsed_sections": [
        "SHSTmhUEDukO"
      ],
      "machine_shape": "hm",
      "include_colab_link": true
    },
    "kernelspec": {
      "name": "python3",
      "display_name": "Python 3"
    },
    "accelerator": "TPU"
  },
  "cells": [
    {
      "cell_type": "markdown",
      "metadata": {
        "id": "view-in-github",
        "colab_type": "text"
      },
      "source": [
        "<a href=\"https://colab.research.google.com/github/AtulJoshi1/Optimal-Retail-Store-Placement/blob/master/Retail_Geo_Spotting_1.ipynb\" target=\"_parent\"><img src=\"https://colab.research.google.com/assets/colab-badge.svg\" alt=\"Open In Colab\"/></a>"
      ]
    },
    {
      "cell_type": "code",
      "metadata": {
        "id": "Lk9CvkgkJOLD",
        "colab_type": "code",
        "colab": {}
      },
      "source": [
        "import numpy as np\n",
        "import pandas as pd\n",
        "import math\n",
        "from sklearn.neighbors import DistanceMetric"
      ],
      "execution_count": 0,
      "outputs": []
    },
    {
      "cell_type": "code",
      "metadata": {
        "id": "TE-T-I1NKMW6",
        "colab_type": "code",
        "outputId": "c71fdfaf-ace9-4ca9-931f-3941c2465cd9",
        "colab": {
          "base_uri": "https://localhost:8080/",
          "height": 122
        }
      },
      "source": [
        "from google.colab import drive\n",
        "drive.mount('/content/drive')"
      ],
      "execution_count": 2,
      "outputs": [
        {
          "output_type": "stream",
          "text": [
            "Go to this URL in a browser: https://accounts.google.com/o/oauth2/auth?client_id=947318989803-6bn6qk8qdgf4n4g3pfee6491hc0brc4i.apps.googleusercontent.com&redirect_uri=urn%3aietf%3awg%3aoauth%3a2.0%3aoob&response_type=code&scope=email%20https%3a%2f%2fwww.googleapis.com%2fauth%2fdocs.test%20https%3a%2f%2fwww.googleapis.com%2fauth%2fdrive%20https%3a%2f%2fwww.googleapis.com%2fauth%2fdrive.photos.readonly%20https%3a%2f%2fwww.googleapis.com%2fauth%2fpeopleapi.readonly\n",
            "\n",
            "Enter your authorization code:\n",
            "··········\n",
            "Mounted at /content/drive\n"
          ],
          "name": "stdout"
        }
      ]
    },
    {
      "cell_type": "code",
      "metadata": {
        "id": "ZIte9rQwKOK1",
        "colab_type": "code",
        "colab": {}
      },
      "source": [
        "df_nyc_checkins = pd.read_csv('/content/drive/My Drive/BDA/Datasets/Foursquare/DataSets/NYC TOKyo checkin/dataset_TSMC2014_NYC.tsv',sep='\\t',encoding='ISO-8859-1',names=['User_ID','Venue_ID','Venue_category_ID','Venue_category_name','Latitude','Longitude','Timezone_offset','UTC_Time'],header=None)"
      ],
      "execution_count": 0,
      "outputs": []
    },
    {
      "cell_type": "code",
      "metadata": {
        "id": "x5p-jAheK6As",
        "colab_type": "code",
        "outputId": "6ee09cf0-f013-4201-b029-ea5aea20a3e7",
        "colab": {
          "base_uri": "https://localhost:8080/",
          "height": 289
        }
      },
      "source": [
        "df_nyc_checkins.head()"
      ],
      "execution_count": 4,
      "outputs": [
        {
          "output_type": "execute_result",
          "data": {
            "text/html": [
              "<div>\n",
              "<style scoped>\n",
              "    .dataframe tbody tr th:only-of-type {\n",
              "        vertical-align: middle;\n",
              "    }\n",
              "\n",
              "    .dataframe tbody tr th {\n",
              "        vertical-align: top;\n",
              "    }\n",
              "\n",
              "    .dataframe thead th {\n",
              "        text-align: right;\n",
              "    }\n",
              "</style>\n",
              "<table border=\"1\" class=\"dataframe\">\n",
              "  <thead>\n",
              "    <tr style=\"text-align: right;\">\n",
              "      <th></th>\n",
              "      <th>User_ID</th>\n",
              "      <th>Venue_ID</th>\n",
              "      <th>Venue_category_ID</th>\n",
              "      <th>Venue_category_name</th>\n",
              "      <th>Latitude</th>\n",
              "      <th>Longitude</th>\n",
              "      <th>Timezone_offset</th>\n",
              "      <th>UTC_Time</th>\n",
              "    </tr>\n",
              "  </thead>\n",
              "  <tbody>\n",
              "    <tr>\n",
              "      <th>0</th>\n",
              "      <td>470</td>\n",
              "      <td>49bbd6c0f964a520f4531fe3</td>\n",
              "      <td>4bf58dd8d48988d127951735</td>\n",
              "      <td>Arts &amp; Crafts Store</td>\n",
              "      <td>40.719810</td>\n",
              "      <td>-74.002581</td>\n",
              "      <td>-240</td>\n",
              "      <td>Tue Apr 03 18:00:09 +0000 2012</td>\n",
              "    </tr>\n",
              "    <tr>\n",
              "      <th>1</th>\n",
              "      <td>979</td>\n",
              "      <td>4a43c0aef964a520c6a61fe3</td>\n",
              "      <td>4bf58dd8d48988d1df941735</td>\n",
              "      <td>Bridge</td>\n",
              "      <td>40.606800</td>\n",
              "      <td>-74.044170</td>\n",
              "      <td>-240</td>\n",
              "      <td>Tue Apr 03 18:00:25 +0000 2012</td>\n",
              "    </tr>\n",
              "    <tr>\n",
              "      <th>2</th>\n",
              "      <td>69</td>\n",
              "      <td>4c5cc7b485a1e21e00d35711</td>\n",
              "      <td>4bf58dd8d48988d103941735</td>\n",
              "      <td>Home (private)</td>\n",
              "      <td>40.716162</td>\n",
              "      <td>-73.883070</td>\n",
              "      <td>-240</td>\n",
              "      <td>Tue Apr 03 18:02:24 +0000 2012</td>\n",
              "    </tr>\n",
              "    <tr>\n",
              "      <th>3</th>\n",
              "      <td>395</td>\n",
              "      <td>4bc7086715a7ef3bef9878da</td>\n",
              "      <td>4bf58dd8d48988d104941735</td>\n",
              "      <td>Medical Center</td>\n",
              "      <td>40.745164</td>\n",
              "      <td>-73.982519</td>\n",
              "      <td>-240</td>\n",
              "      <td>Tue Apr 03 18:02:41 +0000 2012</td>\n",
              "    </tr>\n",
              "    <tr>\n",
              "      <th>4</th>\n",
              "      <td>87</td>\n",
              "      <td>4cf2c5321d18a143951b5cec</td>\n",
              "      <td>4bf58dd8d48988d1cb941735</td>\n",
              "      <td>Food Truck</td>\n",
              "      <td>40.740104</td>\n",
              "      <td>-73.989658</td>\n",
              "      <td>-240</td>\n",
              "      <td>Tue Apr 03 18:03:00 +0000 2012</td>\n",
              "    </tr>\n",
              "  </tbody>\n",
              "</table>\n",
              "</div>"
            ],
            "text/plain": [
              "   User_ID  ...                        UTC_Time\n",
              "0      470  ...  Tue Apr 03 18:00:09 +0000 2012\n",
              "1      979  ...  Tue Apr 03 18:00:25 +0000 2012\n",
              "2       69  ...  Tue Apr 03 18:02:24 +0000 2012\n",
              "3      395  ...  Tue Apr 03 18:02:41 +0000 2012\n",
              "4       87  ...  Tue Apr 03 18:03:00 +0000 2012\n",
              "\n",
              "[5 rows x 8 columns]"
            ]
          },
          "metadata": {
            "tags": []
          },
          "execution_count": 4
        }
      ]
    },
    {
      "cell_type": "code",
      "metadata": {
        "id": "tDhrt3mJ3OwY",
        "colab_type": "code",
        "outputId": "2728c1e6-7803-4df3-a51d-657344590c7b",
        "colab": {
          "base_uri": "https://localhost:8080/",
          "height": 34
        }
      },
      "source": [
        "df_nyc_checkins['Latitude'][0]"
      ],
      "execution_count": 0,
      "outputs": [
        {
          "output_type": "execute_result",
          "data": {
            "text/plain": [
              "40.71981037548853"
            ]
          },
          "metadata": {
            "tags": []
          },
          "execution_count": 8
        }
      ]
    },
    {
      "cell_type": "code",
      "metadata": {
        "id": "GtxOuEJV_zQq",
        "colab_type": "code",
        "outputId": "0ae4d827-583c-41f3-9086-fb5ad4cd939f",
        "colab": {
          "base_uri": "https://localhost:8080/",
          "height": 34
        }
      },
      "source": [
        "df_nyc_checkins.shape"
      ],
      "execution_count": 5,
      "outputs": [
        {
          "output_type": "execute_result",
          "data": {
            "text/plain": [
              "(227428, 8)"
            ]
          },
          "metadata": {
            "tags": []
          },
          "execution_count": 5
        }
      ]
    },
    {
      "cell_type": "markdown",
      "metadata": {
        "id": "SHSTmhUEDukO",
        "colab_type": "text"
      },
      "source": [
        "### Data"
      ]
    },
    {
      "cell_type": "code",
      "metadata": {
        "id": "huBnh3eoSdBh",
        "colab_type": "code",
        "colab": {}
      },
      "source": [
        "x=df_nyc_checkins.iloc[:,3:6]"
      ],
      "execution_count": 0,
      "outputs": []
    },
    {
      "cell_type": "code",
      "metadata": {
        "id": "r7M86VvfVwhn",
        "colab_type": "code",
        "outputId": "2206ee8c-e548-4133-8e8f-769b75e3ae20",
        "colab": {
          "base_uri": "https://localhost:8080/",
          "height": 419
        }
      },
      "source": [
        "x"
      ],
      "execution_count": 0,
      "outputs": [
        {
          "output_type": "execute_result",
          "data": {
            "text/html": [
              "<div>\n",
              "<style scoped>\n",
              "    .dataframe tbody tr th:only-of-type {\n",
              "        vertical-align: middle;\n",
              "    }\n",
              "\n",
              "    .dataframe tbody tr th {\n",
              "        vertical-align: top;\n",
              "    }\n",
              "\n",
              "    .dataframe thead th {\n",
              "        text-align: right;\n",
              "    }\n",
              "</style>\n",
              "<table border=\"1\" class=\"dataframe\">\n",
              "  <thead>\n",
              "    <tr style=\"text-align: right;\">\n",
              "      <th></th>\n",
              "      <th>Venue_category_name</th>\n",
              "      <th>Latitude</th>\n",
              "      <th>Longitude</th>\n",
              "    </tr>\n",
              "  </thead>\n",
              "  <tbody>\n",
              "    <tr>\n",
              "      <th>0</th>\n",
              "      <td>Arts &amp; Crafts Store</td>\n",
              "      <td>40.719810</td>\n",
              "      <td>-74.002581</td>\n",
              "    </tr>\n",
              "    <tr>\n",
              "      <th>1</th>\n",
              "      <td>Bridge</td>\n",
              "      <td>40.606800</td>\n",
              "      <td>-74.044170</td>\n",
              "    </tr>\n",
              "    <tr>\n",
              "      <th>2</th>\n",
              "      <td>Home (private)</td>\n",
              "      <td>40.716162</td>\n",
              "      <td>-73.883070</td>\n",
              "    </tr>\n",
              "    <tr>\n",
              "      <th>3</th>\n",
              "      <td>Medical Center</td>\n",
              "      <td>40.745164</td>\n",
              "      <td>-73.982519</td>\n",
              "    </tr>\n",
              "    <tr>\n",
              "      <th>4</th>\n",
              "      <td>Food Truck</td>\n",
              "      <td>40.740104</td>\n",
              "      <td>-73.989658</td>\n",
              "    </tr>\n",
              "    <tr>\n",
              "      <th>...</th>\n",
              "      <td>...</td>\n",
              "      <td>...</td>\n",
              "      <td>...</td>\n",
              "    </tr>\n",
              "    <tr>\n",
              "      <th>227423</th>\n",
              "      <td>Music Venue</td>\n",
              "      <td>40.733596</td>\n",
              "      <td>-74.003139</td>\n",
              "    </tr>\n",
              "    <tr>\n",
              "      <th>227424</th>\n",
              "      <td>Burger Joint</td>\n",
              "      <td>40.745719</td>\n",
              "      <td>-73.993720</td>\n",
              "    </tr>\n",
              "    <tr>\n",
              "      <th>227425</th>\n",
              "      <td>Home (private)</td>\n",
              "      <td>40.854364</td>\n",
              "      <td>-73.883070</td>\n",
              "    </tr>\n",
              "    <tr>\n",
              "      <th>227426</th>\n",
              "      <td>Bar</td>\n",
              "      <td>40.735981</td>\n",
              "      <td>-74.029309</td>\n",
              "    </tr>\n",
              "    <tr>\n",
              "      <th>227427</th>\n",
              "      <td>Bar</td>\n",
              "      <td>40.726805</td>\n",
              "      <td>-73.957422</td>\n",
              "    </tr>\n",
              "  </tbody>\n",
              "</table>\n",
              "<p>227428 rows × 3 columns</p>\n",
              "</div>"
            ],
            "text/plain": [
              "        Venue_category_name   Latitude  Longitude\n",
              "0       Arts & Crafts Store  40.719810 -74.002581\n",
              "1                    Bridge  40.606800 -74.044170\n",
              "2            Home (private)  40.716162 -73.883070\n",
              "3            Medical Center  40.745164 -73.982519\n",
              "4                Food Truck  40.740104 -73.989658\n",
              "...                     ...        ...        ...\n",
              "227423          Music Venue  40.733596 -74.003139\n",
              "227424         Burger Joint  40.745719 -73.993720\n",
              "227425       Home (private)  40.854364 -73.883070\n",
              "227426                  Bar  40.735981 -74.029309\n",
              "227427                  Bar  40.726805 -73.957422\n",
              "\n",
              "[227428 rows x 3 columns]"
            ]
          },
          "metadata": {
            "tags": []
          },
          "execution_count": 11
        }
      ]
    },
    {
      "cell_type": "code",
      "metadata": {
        "id": "zjSnor5hRNzz",
        "colab_type": "code",
        "colab": {}
      },
      "source": [
        "count_locations=df_nyc_checkins.groupby(['Latitude','Longitude']).size().reset_index().rename(columns={0:'count'})"
      ],
      "execution_count": 0,
      "outputs": []
    },
    {
      "cell_type": "code",
      "metadata": {
        "id": "B95qOq8zB0yd",
        "colab_type": "code",
        "outputId": "8b34eb8d-ec70-4b7d-9f03-750a220cc093",
        "colab": {
          "base_uri": "https://localhost:8080/",
          "height": 419
        }
      },
      "source": [
        "count_locations"
      ],
      "execution_count": 0,
      "outputs": [
        {
          "output_type": "execute_result",
          "data": {
            "text/html": [
              "<div>\n",
              "<style scoped>\n",
              "    .dataframe tbody tr th:only-of-type {\n",
              "        vertical-align: middle;\n",
              "    }\n",
              "\n",
              "    .dataframe tbody tr th {\n",
              "        vertical-align: top;\n",
              "    }\n",
              "\n",
              "    .dataframe thead th {\n",
              "        text-align: right;\n",
              "    }\n",
              "</style>\n",
              "<table border=\"1\" class=\"dataframe\">\n",
              "  <thead>\n",
              "    <tr style=\"text-align: right;\">\n",
              "      <th></th>\n",
              "      <th>Latitude</th>\n",
              "      <th>Longitude</th>\n",
              "      <th>count</th>\n",
              "    </tr>\n",
              "  </thead>\n",
              "  <tbody>\n",
              "    <tr>\n",
              "      <th>0</th>\n",
              "      <td>40.550852</td>\n",
              "      <td>-73.931293</td>\n",
              "      <td>6</td>\n",
              "    </tr>\n",
              "    <tr>\n",
              "      <th>1</th>\n",
              "      <td>40.556602</td>\n",
              "      <td>-73.913372</td>\n",
              "      <td>2</td>\n",
              "    </tr>\n",
              "    <tr>\n",
              "      <th>2</th>\n",
              "      <td>40.557295</td>\n",
              "      <td>-73.911548</td>\n",
              "      <td>13</td>\n",
              "    </tr>\n",
              "    <tr>\n",
              "      <th>3</th>\n",
              "      <td>40.558871</td>\n",
              "      <td>-73.923459</td>\n",
              "      <td>1</td>\n",
              "    </tr>\n",
              "    <tr>\n",
              "      <th>4</th>\n",
              "      <td>40.559423</td>\n",
              "      <td>-73.926507</td>\n",
              "      <td>1</td>\n",
              "    </tr>\n",
              "    <tr>\n",
              "      <th>...</th>\n",
              "      <td>...</td>\n",
              "      <td>...</td>\n",
              "      <td>...</td>\n",
              "    </tr>\n",
              "    <tr>\n",
              "      <th>42976</th>\n",
              "      <td>40.983151</td>\n",
              "      <td>-74.010437</td>\n",
              "      <td>1</td>\n",
              "    </tr>\n",
              "    <tr>\n",
              "      <th>42977</th>\n",
              "      <td>40.983611</td>\n",
              "      <td>-74.015588</td>\n",
              "      <td>1</td>\n",
              "    </tr>\n",
              "    <tr>\n",
              "      <th>42978</th>\n",
              "      <td>40.983991</td>\n",
              "      <td>-73.978946</td>\n",
              "      <td>3</td>\n",
              "    </tr>\n",
              "    <tr>\n",
              "      <th>42979</th>\n",
              "      <td>40.987646</td>\n",
              "      <td>-73.988880</td>\n",
              "      <td>16</td>\n",
              "    </tr>\n",
              "    <tr>\n",
              "      <th>42980</th>\n",
              "      <td>40.988332</td>\n",
              "      <td>-73.974185</td>\n",
              "      <td>2</td>\n",
              "    </tr>\n",
              "  </tbody>\n",
              "</table>\n",
              "<p>42981 rows × 3 columns</p>\n",
              "</div>"
            ],
            "text/plain": [
              "        Latitude  Longitude  count\n",
              "0      40.550852 -73.931293      6\n",
              "1      40.556602 -73.913372      2\n",
              "2      40.557295 -73.911548     13\n",
              "3      40.558871 -73.923459      1\n",
              "4      40.559423 -73.926507      1\n",
              "...          ...        ...    ...\n",
              "42976  40.983151 -74.010437      1\n",
              "42977  40.983611 -74.015588      1\n",
              "42978  40.983991 -73.978946      3\n",
              "42979  40.987646 -73.988880     16\n",
              "42980  40.988332 -73.974185      2\n",
              "\n",
              "[42981 rows x 3 columns]"
            ]
          },
          "metadata": {
            "tags": []
          },
          "execution_count": 13
        }
      ]
    },
    {
      "cell_type": "code",
      "metadata": {
        "id": "C1RerQ44Ys4c",
        "colab_type": "code",
        "outputId": "f7309220-e037-47ba-da2f-6f65368b8388",
        "colab": {
          "base_uri": "https://localhost:8080/",
          "height": 34
        }
      },
      "source": [
        "print(\"No. of unique locations: \",count_locations.shape[0])"
      ],
      "execution_count": 0,
      "outputs": [
        {
          "output_type": "stream",
          "text": [
            "No. of unique locations:  42981\n"
          ],
          "name": "stdout"
        }
      ]
    },
    {
      "cell_type": "code",
      "metadata": {
        "id": "KWSGhtflZ18b",
        "colab_type": "code",
        "colab": {}
      },
      "source": [
        "count_locations_category=x.groupby(['Venue_category_name']).size().reset_index().rename(columns={0:'count'})"
      ],
      "execution_count": 0,
      "outputs": []
    },
    {
      "cell_type": "code",
      "metadata": {
        "id": "eJy0deSxaZ6X",
        "colab_type": "code",
        "outputId": "84b77a3c-5573-419f-c1ab-232adcdba274",
        "colab": {
          "base_uri": "https://localhost:8080/",
          "height": 419
        }
      },
      "source": [
        "count_locations_category"
      ],
      "execution_count": 0,
      "outputs": [
        {
          "output_type": "execute_result",
          "data": {
            "text/html": [
              "<div>\n",
              "<style scoped>\n",
              "    .dataframe tbody tr th:only-of-type {\n",
              "        vertical-align: middle;\n",
              "    }\n",
              "\n",
              "    .dataframe tbody tr th {\n",
              "        vertical-align: top;\n",
              "    }\n",
              "\n",
              "    .dataframe thead th {\n",
              "        text-align: right;\n",
              "    }\n",
              "</style>\n",
              "<table border=\"1\" class=\"dataframe\">\n",
              "  <thead>\n",
              "    <tr style=\"text-align: right;\">\n",
              "      <th></th>\n",
              "      <th>Venue_category_name</th>\n",
              "      <th>count</th>\n",
              "    </tr>\n",
              "  </thead>\n",
              "  <tbody>\n",
              "    <tr>\n",
              "      <th>0</th>\n",
              "      <td>Afghan Restaurant</td>\n",
              "      <td>4</td>\n",
              "    </tr>\n",
              "    <tr>\n",
              "      <th>1</th>\n",
              "      <td>African Restaurant</td>\n",
              "      <td>40</td>\n",
              "    </tr>\n",
              "    <tr>\n",
              "      <th>2</th>\n",
              "      <td>Airport</td>\n",
              "      <td>2852</td>\n",
              "    </tr>\n",
              "    <tr>\n",
              "      <th>3</th>\n",
              "      <td>American Restaurant</td>\n",
              "      <td>3701</td>\n",
              "    </tr>\n",
              "    <tr>\n",
              "      <th>4</th>\n",
              "      <td>Animal Shelter</td>\n",
              "      <td>62</td>\n",
              "    </tr>\n",
              "    <tr>\n",
              "      <th>...</th>\n",
              "      <td>...</td>\n",
              "      <td>...</td>\n",
              "    </tr>\n",
              "    <tr>\n",
              "      <th>246</th>\n",
              "      <td>Video Store</td>\n",
              "      <td>42</td>\n",
              "    </tr>\n",
              "    <tr>\n",
              "      <th>247</th>\n",
              "      <td>Vietnamese Restaurant</td>\n",
              "      <td>180</td>\n",
              "    </tr>\n",
              "    <tr>\n",
              "      <th>248</th>\n",
              "      <td>Winery</td>\n",
              "      <td>31</td>\n",
              "    </tr>\n",
              "    <tr>\n",
              "      <th>249</th>\n",
              "      <td>Wings Joint</td>\n",
              "      <td>149</td>\n",
              "    </tr>\n",
              "    <tr>\n",
              "      <th>250</th>\n",
              "      <td>Zoo</td>\n",
              "      <td>104</td>\n",
              "    </tr>\n",
              "  </tbody>\n",
              "</table>\n",
              "<p>251 rows × 2 columns</p>\n",
              "</div>"
            ],
            "text/plain": [
              "       Venue_category_name  count\n",
              "0        Afghan Restaurant      4\n",
              "1       African Restaurant     40\n",
              "2                  Airport   2852\n",
              "3      American Restaurant   3701\n",
              "4           Animal Shelter     62\n",
              "..                     ...    ...\n",
              "246            Video Store     42\n",
              "247  Vietnamese Restaurant    180\n",
              "248                 Winery     31\n",
              "249            Wings Joint    149\n",
              "250                    Zoo    104\n",
              "\n",
              "[251 rows x 2 columns]"
            ]
          },
          "metadata": {
            "tags": []
          },
          "execution_count": 16
        }
      ]
    },
    {
      "cell_type": "markdown",
      "metadata": {
        "id": "_bp7SBW3AyfH",
        "colab_type": "text"
      },
      "source": [
        "## Working on Reduced data"
      ]
    },
    {
      "cell_type": "code",
      "metadata": {
        "id": "xCD_9tMzAuaT",
        "colab_type": "code",
        "colab": {}
      },
      "source": [
        "df_checkin = df_nyc_checkins.iloc[:10000,:]"
      ],
      "execution_count": 0,
      "outputs": []
    },
    {
      "cell_type": "code",
      "metadata": {
        "id": "VI5_GE0vB5Qp",
        "colab_type": "code",
        "outputId": "3dd86737-fe5f-4f3e-c4ce-f28910331aa7",
        "colab": {
          "base_uri": "https://localhost:8080/",
          "height": 119
        }
      },
      "source": [
        "df_checkin['UTC_Time']=pd.to_datetime(df_checkin['UTC_Time'])"
      ],
      "execution_count": 0,
      "outputs": [
        {
          "output_type": "stream",
          "text": [
            "/usr/local/lib/python3.6/dist-packages/ipykernel_launcher.py:1: SettingWithCopyWarning: \n",
            "A value is trying to be set on a copy of a slice from a DataFrame.\n",
            "Try using .loc[row_indexer,col_indexer] = value instead\n",
            "\n",
            "See the caveats in the documentation: http://pandas.pydata.org/pandas-docs/stable/user_guide/indexing.html#returning-a-view-versus-a-copy\n",
            "  \"\"\"Entry point for launching an IPython kernel.\n"
          ],
          "name": "stderr"
        }
      ]
    },
    {
      "cell_type": "code",
      "metadata": {
        "id": "Feb7qnZaJ5s2",
        "colab_type": "code",
        "outputId": "14fae8e1-8941-4122-97cf-5b8a97b686e3",
        "colab": {
          "base_uri": "https://localhost:8080/",
          "height": 119
        }
      },
      "source": [
        "df_checkin['index']=(df_checkin.index.to_list())"
      ],
      "execution_count": 0,
      "outputs": [
        {
          "output_type": "stream",
          "text": [
            "/usr/local/lib/python3.6/dist-packages/ipykernel_launcher.py:1: SettingWithCopyWarning: \n",
            "A value is trying to be set on a copy of a slice from a DataFrame.\n",
            "Try using .loc[row_indexer,col_indexer] = value instead\n",
            "\n",
            "See the caveats in the documentation: http://pandas.pydata.org/pandas-docs/stable/user_guide/indexing.html#returning-a-view-versus-a-copy\n",
            "  \"\"\"Entry point for launching an IPython kernel.\n"
          ],
          "name": "stderr"
        }
      ]
    },
    {
      "cell_type": "code",
      "metadata": {
        "id": "yWZ7Zf3uKiUq",
        "colab_type": "code",
        "outputId": "4f386611-ba9e-4f81-fc7b-291f1099f2e4",
        "colab": {
          "base_uri": "https://localhost:8080/",
          "height": 589
        }
      },
      "source": [
        "df_checkin"
      ],
      "execution_count": 0,
      "outputs": [
        {
          "output_type": "execute_result",
          "data": {
            "text/html": [
              "<div>\n",
              "<style scoped>\n",
              "    .dataframe tbody tr th:only-of-type {\n",
              "        vertical-align: middle;\n",
              "    }\n",
              "\n",
              "    .dataframe tbody tr th {\n",
              "        vertical-align: top;\n",
              "    }\n",
              "\n",
              "    .dataframe thead th {\n",
              "        text-align: right;\n",
              "    }\n",
              "</style>\n",
              "<table border=\"1\" class=\"dataframe\">\n",
              "  <thead>\n",
              "    <tr style=\"text-align: right;\">\n",
              "      <th></th>\n",
              "      <th>User_ID</th>\n",
              "      <th>Venue_ID</th>\n",
              "      <th>Venue_category_ID</th>\n",
              "      <th>Venue_category_name</th>\n",
              "      <th>Latitude</th>\n",
              "      <th>Longitude</th>\n",
              "      <th>Timezone_offset</th>\n",
              "      <th>UTC_Time</th>\n",
              "      <th>index</th>\n",
              "    </tr>\n",
              "  </thead>\n",
              "  <tbody>\n",
              "    <tr>\n",
              "      <th>0</th>\n",
              "      <td>470</td>\n",
              "      <td>49bbd6c0f964a520f4531fe3</td>\n",
              "      <td>4bf58dd8d48988d127951735</td>\n",
              "      <td>Arts &amp; Crafts Store</td>\n",
              "      <td>40.719810</td>\n",
              "      <td>-74.002581</td>\n",
              "      <td>-240</td>\n",
              "      <td>2012-04-03 18:00:09+00:00</td>\n",
              "      <td>0</td>\n",
              "    </tr>\n",
              "    <tr>\n",
              "      <th>1</th>\n",
              "      <td>979</td>\n",
              "      <td>4a43c0aef964a520c6a61fe3</td>\n",
              "      <td>4bf58dd8d48988d1df941735</td>\n",
              "      <td>Bridge</td>\n",
              "      <td>40.606800</td>\n",
              "      <td>-74.044170</td>\n",
              "      <td>-240</td>\n",
              "      <td>2012-04-03 18:00:25+00:00</td>\n",
              "      <td>1</td>\n",
              "    </tr>\n",
              "    <tr>\n",
              "      <th>2</th>\n",
              "      <td>69</td>\n",
              "      <td>4c5cc7b485a1e21e00d35711</td>\n",
              "      <td>4bf58dd8d48988d103941735</td>\n",
              "      <td>Home (private)</td>\n",
              "      <td>40.716162</td>\n",
              "      <td>-73.883070</td>\n",
              "      <td>-240</td>\n",
              "      <td>2012-04-03 18:02:24+00:00</td>\n",
              "      <td>2</td>\n",
              "    </tr>\n",
              "    <tr>\n",
              "      <th>3</th>\n",
              "      <td>395</td>\n",
              "      <td>4bc7086715a7ef3bef9878da</td>\n",
              "      <td>4bf58dd8d48988d104941735</td>\n",
              "      <td>Medical Center</td>\n",
              "      <td>40.745164</td>\n",
              "      <td>-73.982519</td>\n",
              "      <td>-240</td>\n",
              "      <td>2012-04-03 18:02:41+00:00</td>\n",
              "      <td>3</td>\n",
              "    </tr>\n",
              "    <tr>\n",
              "      <th>4</th>\n",
              "      <td>87</td>\n",
              "      <td>4cf2c5321d18a143951b5cec</td>\n",
              "      <td>4bf58dd8d48988d1cb941735</td>\n",
              "      <td>Food Truck</td>\n",
              "      <td>40.740104</td>\n",
              "      <td>-73.989658</td>\n",
              "      <td>-240</td>\n",
              "      <td>2012-04-03 18:03:00+00:00</td>\n",
              "      <td>4</td>\n",
              "    </tr>\n",
              "    <tr>\n",
              "      <th>...</th>\n",
              "      <td>...</td>\n",
              "      <td>...</td>\n",
              "      <td>...</td>\n",
              "      <td>...</td>\n",
              "      <td>...</td>\n",
              "      <td>...</td>\n",
              "      <td>...</td>\n",
              "      <td>...</td>\n",
              "      <td>...</td>\n",
              "    </tr>\n",
              "    <tr>\n",
              "      <th>9995</th>\n",
              "      <td>389</td>\n",
              "      <td>4b37853af964a520c54125e3</td>\n",
              "      <td>4bf58dd8d48988d1fa931735</td>\n",
              "      <td>Hotel</td>\n",
              "      <td>40.775186</td>\n",
              "      <td>-73.963302</td>\n",
              "      <td>-240</td>\n",
              "      <td>2012-04-11 17:06:11+00:00</td>\n",
              "      <td>9995</td>\n",
              "    </tr>\n",
              "    <tr>\n",
              "      <th>9996</th>\n",
              "      <td>663</td>\n",
              "      <td>4baa673bf964a520d8663ae3</td>\n",
              "      <td>4bf58dd8d48988d124941735</td>\n",
              "      <td>Office</td>\n",
              "      <td>40.773502</td>\n",
              "      <td>-73.981026</td>\n",
              "      <td>-240</td>\n",
              "      <td>2012-04-11 17:08:18+00:00</td>\n",
              "      <td>9996</td>\n",
              "    </tr>\n",
              "    <tr>\n",
              "      <th>9997</th>\n",
              "      <td>217</td>\n",
              "      <td>4d93828762ad5481a4cd834b</td>\n",
              "      <td>4bf58dd8d48988d124941735</td>\n",
              "      <td>Office</td>\n",
              "      <td>40.755661</td>\n",
              "      <td>-73.975389</td>\n",
              "      <td>-240</td>\n",
              "      <td>2012-04-11 17:08:38+00:00</td>\n",
              "      <td>9997</td>\n",
              "    </tr>\n",
              "    <tr>\n",
              "      <th>9998</th>\n",
              "      <td>1066</td>\n",
              "      <td>4ae0e652f964a520818321e3</td>\n",
              "      <td>4bf58dd8d48988d1ed941735</td>\n",
              "      <td>Spa / Massage</td>\n",
              "      <td>40.766741</td>\n",
              "      <td>-73.982156</td>\n",
              "      <td>-240</td>\n",
              "      <td>2012-04-11 17:09:12+00:00</td>\n",
              "      <td>9998</td>\n",
              "    </tr>\n",
              "    <tr>\n",
              "      <th>9999</th>\n",
              "      <td>1079</td>\n",
              "      <td>4af8875bf964a5200c0e22e3</td>\n",
              "      <td>4bf58dd8d48988d1c5941735</td>\n",
              "      <td>Sandwich Place</td>\n",
              "      <td>40.754174</td>\n",
              "      <td>-73.971846</td>\n",
              "      <td>-240</td>\n",
              "      <td>2012-04-11 17:09:13+00:00</td>\n",
              "      <td>9999</td>\n",
              "    </tr>\n",
              "  </tbody>\n",
              "</table>\n",
              "<p>10000 rows × 9 columns</p>\n",
              "</div>"
            ],
            "text/plain": [
              "      User_ID                  Venue_ID  ...                  UTC_Time index\n",
              "0         470  49bbd6c0f964a520f4531fe3  ... 2012-04-03 18:00:09+00:00     0\n",
              "1         979  4a43c0aef964a520c6a61fe3  ... 2012-04-03 18:00:25+00:00     1\n",
              "2          69  4c5cc7b485a1e21e00d35711  ... 2012-04-03 18:02:24+00:00     2\n",
              "3         395  4bc7086715a7ef3bef9878da  ... 2012-04-03 18:02:41+00:00     3\n",
              "4          87  4cf2c5321d18a143951b5cec  ... 2012-04-03 18:03:00+00:00     4\n",
              "...       ...                       ...  ...                       ...   ...\n",
              "9995      389  4b37853af964a520c54125e3  ... 2012-04-11 17:06:11+00:00  9995\n",
              "9996      663  4baa673bf964a520d8663ae3  ... 2012-04-11 17:08:18+00:00  9996\n",
              "9997      217  4d93828762ad5481a4cd834b  ... 2012-04-11 17:08:38+00:00  9997\n",
              "9998     1066  4ae0e652f964a520818321e3  ... 2012-04-11 17:09:12+00:00  9998\n",
              "9999     1079  4af8875bf964a5200c0e22e3  ... 2012-04-11 17:09:13+00:00  9999\n",
              "\n",
              "[10000 rows x 9 columns]"
            ]
          },
          "metadata": {
            "tags": []
          },
          "execution_count": 13
        }
      ]
    },
    {
      "cell_type": "code",
      "metadata": {
        "id": "4rzC2XovD-ww",
        "colab_type": "code",
        "colab": {}
      },
      "source": [
        "count_df_locations =df_checkin.groupby(['Latitude','Longitude']).size().reset_index().rename(columns={0:'count'})"
      ],
      "execution_count": 0,
      "outputs": []
    },
    {
      "cell_type": "code",
      "metadata": {
        "id": "FoCk80-4MAHP",
        "colab_type": "code",
        "outputId": "a9055c61-48bd-4aa2-b2a9-90eddae09635",
        "colab": {
          "base_uri": "https://localhost:8080/",
          "height": 419
        }
      },
      "source": [
        "count_df_locations"
      ],
      "execution_count": 0,
      "outputs": [
        {
          "output_type": "execute_result",
          "data": {
            "text/html": [
              "<div>\n",
              "<style scoped>\n",
              "    .dataframe tbody tr th:only-of-type {\n",
              "        vertical-align: middle;\n",
              "    }\n",
              "\n",
              "    .dataframe tbody tr th {\n",
              "        vertical-align: top;\n",
              "    }\n",
              "\n",
              "    .dataframe thead th {\n",
              "        text-align: right;\n",
              "    }\n",
              "</style>\n",
              "<table border=\"1\" class=\"dataframe\">\n",
              "  <thead>\n",
              "    <tr style=\"text-align: right;\">\n",
              "      <th></th>\n",
              "      <th>Venue_category_name</th>\n",
              "      <th>Latitude</th>\n",
              "      <th>Longitude</th>\n",
              "      <th>count</th>\n",
              "    </tr>\n",
              "  </thead>\n",
              "  <tbody>\n",
              "    <tr>\n",
              "      <th>0</th>\n",
              "      <td>African Restaurant</td>\n",
              "      <td>40.684159</td>\n",
              "      <td>-73.954289</td>\n",
              "      <td>1</td>\n",
              "    </tr>\n",
              "    <tr>\n",
              "      <th>1</th>\n",
              "      <td>African Restaurant</td>\n",
              "      <td>40.684198</td>\n",
              "      <td>-73.722027</td>\n",
              "      <td>7</td>\n",
              "    </tr>\n",
              "    <tr>\n",
              "      <th>2</th>\n",
              "      <td>African Restaurant</td>\n",
              "      <td>40.686415</td>\n",
              "      <td>-73.954635</td>\n",
              "      <td>1</td>\n",
              "    </tr>\n",
              "    <tr>\n",
              "      <th>3</th>\n",
              "      <td>African Restaurant</td>\n",
              "      <td>40.689566</td>\n",
              "      <td>-73.971935</td>\n",
              "      <td>2</td>\n",
              "    </tr>\n",
              "    <tr>\n",
              "      <th>4</th>\n",
              "      <td>Airport</td>\n",
              "      <td>40.639681</td>\n",
              "      <td>-73.979935</td>\n",
              "      <td>1</td>\n",
              "    </tr>\n",
              "    <tr>\n",
              "      <th>...</th>\n",
              "      <td>...</td>\n",
              "      <td>...</td>\n",
              "      <td>...</td>\n",
              "      <td>...</td>\n",
              "    </tr>\n",
              "    <tr>\n",
              "      <th>5742</th>\n",
              "      <td>Wings Joint</td>\n",
              "      <td>40.737980</td>\n",
              "      <td>-74.030761</td>\n",
              "      <td>1</td>\n",
              "    </tr>\n",
              "    <tr>\n",
              "      <th>5743</th>\n",
              "      <td>Wings Joint</td>\n",
              "      <td>40.765263</td>\n",
              "      <td>-73.981582</td>\n",
              "      <td>1</td>\n",
              "    </tr>\n",
              "    <tr>\n",
              "      <th>5744</th>\n",
              "      <td>Wings Joint</td>\n",
              "      <td>40.815624</td>\n",
              "      <td>-74.162222</td>\n",
              "      <td>2</td>\n",
              "    </tr>\n",
              "    <tr>\n",
              "      <th>5745</th>\n",
              "      <td>Wings Joint</td>\n",
              "      <td>40.848644</td>\n",
              "      <td>-74.080977</td>\n",
              "      <td>1</td>\n",
              "    </tr>\n",
              "    <tr>\n",
              "      <th>5746</th>\n",
              "      <td>Zoo</td>\n",
              "      <td>40.767444</td>\n",
              "      <td>-73.971934</td>\n",
              "      <td>1</td>\n",
              "    </tr>\n",
              "  </tbody>\n",
              "</table>\n",
              "<p>5747 rows × 4 columns</p>\n",
              "</div>"
            ],
            "text/plain": [
              "     Venue_category_name   Latitude  Longitude  count\n",
              "0     African Restaurant  40.684159 -73.954289      1\n",
              "1     African Restaurant  40.684198 -73.722027      7\n",
              "2     African Restaurant  40.686415 -73.954635      1\n",
              "3     African Restaurant  40.689566 -73.971935      2\n",
              "4                Airport  40.639681 -73.979935      1\n",
              "...                  ...        ...        ...    ...\n",
              "5742         Wings Joint  40.737980 -74.030761      1\n",
              "5743         Wings Joint  40.765263 -73.981582      1\n",
              "5744         Wings Joint  40.815624 -74.162222      2\n",
              "5745         Wings Joint  40.848644 -74.080977      1\n",
              "5746                 Zoo  40.767444 -73.971934      1\n",
              "\n",
              "[5747 rows x 4 columns]"
            ]
          },
          "metadata": {
            "tags": []
          },
          "execution_count": 64
        }
      ]
    },
    {
      "cell_type": "code",
      "metadata": {
        "id": "5JGF0t25G9nN",
        "colab_type": "code",
        "colab": {}
      },
      "source": [
        "count_df_locations =df_checkin.groupby(['Venue_category_name','Latitude','Longitude']).size().reset_index().rename(columns={0:'count'})"
      ],
      "execution_count": 0,
      "outputs": []
    },
    {
      "cell_type": "code",
      "metadata": {
        "id": "_13OLjoEEOJ8",
        "colab_type": "code",
        "outputId": "0a6ab3da-9b66-46e8-9a1e-252e7aad882e",
        "colab": {
          "base_uri": "https://localhost:8080/",
          "height": 221
        }
      },
      "source": [
        "count_df_locations['Latitude']"
      ],
      "execution_count": 0,
      "outputs": [
        {
          "output_type": "execute_result",
          "data": {
            "text/plain": [
              "0       40.684159\n",
              "1       40.684198\n",
              "2       40.686415\n",
              "3       40.689566\n",
              "4       40.639681\n",
              "          ...    \n",
              "5742    40.737980\n",
              "5743    40.765263\n",
              "5744    40.815624\n",
              "5745    40.848644\n",
              "5746    40.767444\n",
              "Name: Latitude, Length: 5747, dtype: float64"
            ]
          },
          "metadata": {
            "tags": []
          },
          "execution_count": 17
        }
      ]
    },
    {
      "cell_type": "code",
      "metadata": {
        "id": "yfI-LDfpEb9m",
        "colab_type": "code",
        "outputId": "5f58dc7f-cefb-49ee-baa4-c651849c4b04",
        "colab": {
          "base_uri": "https://localhost:8080/",
          "height": 34
        }
      },
      "source": [
        "print(\"No. of unique locations: \",len(count_df_locations))"
      ],
      "execution_count": 0,
      "outputs": [
        {
          "output_type": "stream",
          "text": [
            "No. of unique locations:  5747\n"
          ],
          "name": "stdout"
        }
      ]
    },
    {
      "cell_type": "code",
      "metadata": {
        "id": "s9m7Xnew24sb",
        "colab_type": "code",
        "outputId": "8adc1c2c-4919-4946-ab27-a99c660735cf",
        "colab": {
          "base_uri": "https://localhost:8080/",
          "height": 34
        }
      },
      "source": [
        "count_df_locations['Latitude'][0]"
      ],
      "execution_count": 0,
      "outputs": [
        {
          "output_type": "execute_result",
          "data": {
            "text/plain": [
              "40.684159398078926"
            ]
          },
          "metadata": {
            "tags": []
          },
          "execution_count": 19
        }
      ]
    },
    {
      "cell_type": "code",
      "metadata": {
        "id": "hBr9imf5Ehwp",
        "colab_type": "code",
        "outputId": "1483e5f3-5704-4269-b30f-02df34c2f004",
        "colab": {
          "base_uri": "https://localhost:8080/",
          "height": 34
        }
      },
      "source": [
        "len(count_df_locations['Venue_category_name'].unique())"
      ],
      "execution_count": 0,
      "outputs": [
        {
          "output_type": "execute_result",
          "data": {
            "text/plain": [
              "212"
            ]
          },
          "metadata": {
            "tags": []
          },
          "execution_count": 20
        }
      ]
    },
    {
      "cell_type": "code",
      "metadata": {
        "id": "apOtrxdoF8z4",
        "colab_type": "code",
        "outputId": "e7f488a1-067e-4428-9c96-d0cd9327e60d",
        "colab": {
          "base_uri": "https://localhost:8080/",
          "height": 419
        }
      },
      "source": [
        "count_df_locations.iloc[:,1:-1]"
      ],
      "execution_count": 0,
      "outputs": [
        {
          "output_type": "execute_result",
          "data": {
            "text/html": [
              "<div>\n",
              "<style scoped>\n",
              "    .dataframe tbody tr th:only-of-type {\n",
              "        vertical-align: middle;\n",
              "    }\n",
              "\n",
              "    .dataframe tbody tr th {\n",
              "        vertical-align: top;\n",
              "    }\n",
              "\n",
              "    .dataframe thead th {\n",
              "        text-align: right;\n",
              "    }\n",
              "</style>\n",
              "<table border=\"1\" class=\"dataframe\">\n",
              "  <thead>\n",
              "    <tr style=\"text-align: right;\">\n",
              "      <th></th>\n",
              "      <th>Latitude</th>\n",
              "      <th>Longitude</th>\n",
              "    </tr>\n",
              "  </thead>\n",
              "  <tbody>\n",
              "    <tr>\n",
              "      <th>0</th>\n",
              "      <td>40.684159</td>\n",
              "      <td>-73.954289</td>\n",
              "    </tr>\n",
              "    <tr>\n",
              "      <th>1</th>\n",
              "      <td>40.684198</td>\n",
              "      <td>-73.722027</td>\n",
              "    </tr>\n",
              "    <tr>\n",
              "      <th>2</th>\n",
              "      <td>40.686415</td>\n",
              "      <td>-73.954635</td>\n",
              "    </tr>\n",
              "    <tr>\n",
              "      <th>3</th>\n",
              "      <td>40.689566</td>\n",
              "      <td>-73.971935</td>\n",
              "    </tr>\n",
              "    <tr>\n",
              "      <th>4</th>\n",
              "      <td>40.639681</td>\n",
              "      <td>-73.979935</td>\n",
              "    </tr>\n",
              "    <tr>\n",
              "      <th>...</th>\n",
              "      <td>...</td>\n",
              "      <td>...</td>\n",
              "    </tr>\n",
              "    <tr>\n",
              "      <th>5742</th>\n",
              "      <td>40.737980</td>\n",
              "      <td>-74.030761</td>\n",
              "    </tr>\n",
              "    <tr>\n",
              "      <th>5743</th>\n",
              "      <td>40.765263</td>\n",
              "      <td>-73.981582</td>\n",
              "    </tr>\n",
              "    <tr>\n",
              "      <th>5744</th>\n",
              "      <td>40.815624</td>\n",
              "      <td>-74.162222</td>\n",
              "    </tr>\n",
              "    <tr>\n",
              "      <th>5745</th>\n",
              "      <td>40.848644</td>\n",
              "      <td>-74.080977</td>\n",
              "    </tr>\n",
              "    <tr>\n",
              "      <th>5746</th>\n",
              "      <td>40.767444</td>\n",
              "      <td>-73.971934</td>\n",
              "    </tr>\n",
              "  </tbody>\n",
              "</table>\n",
              "<p>5747 rows × 2 columns</p>\n",
              "</div>"
            ],
            "text/plain": [
              "       Latitude  Longitude\n",
              "0     40.684159 -73.954289\n",
              "1     40.684198 -73.722027\n",
              "2     40.686415 -73.954635\n",
              "3     40.689566 -73.971935\n",
              "4     40.639681 -73.979935\n",
              "...         ...        ...\n",
              "5742  40.737980 -74.030761\n",
              "5743  40.765263 -73.981582\n",
              "5744  40.815624 -74.162222\n",
              "5745  40.848644 -74.080977\n",
              "5746  40.767444 -73.971934\n",
              "\n",
              "[5747 rows x 2 columns]"
            ]
          },
          "metadata": {
            "tags": []
          },
          "execution_count": 21
        }
      ]
    },
    {
      "cell_type": "code",
      "metadata": {
        "id": "a4IvqX5V5Eu0",
        "colab_type": "code",
        "outputId": "a593b482-577c-4b86-97c6-15ad465cc4e6",
        "colab": {
          "base_uri": "https://localhost:8080/",
          "height": 204
        }
      },
      "source": [
        "count_df_locations.head()"
      ],
      "execution_count": 0,
      "outputs": [
        {
          "output_type": "execute_result",
          "data": {
            "text/html": [
              "<div>\n",
              "<style scoped>\n",
              "    .dataframe tbody tr th:only-of-type {\n",
              "        vertical-align: middle;\n",
              "    }\n",
              "\n",
              "    .dataframe tbody tr th {\n",
              "        vertical-align: top;\n",
              "    }\n",
              "\n",
              "    .dataframe thead th {\n",
              "        text-align: right;\n",
              "    }\n",
              "</style>\n",
              "<table border=\"1\" class=\"dataframe\">\n",
              "  <thead>\n",
              "    <tr style=\"text-align: right;\">\n",
              "      <th></th>\n",
              "      <th>Venue_category_name</th>\n",
              "      <th>Latitude</th>\n",
              "      <th>Longitude</th>\n",
              "      <th>count</th>\n",
              "    </tr>\n",
              "  </thead>\n",
              "  <tbody>\n",
              "    <tr>\n",
              "      <th>0</th>\n",
              "      <td>African Restaurant</td>\n",
              "      <td>40.684159</td>\n",
              "      <td>-73.954289</td>\n",
              "      <td>1</td>\n",
              "    </tr>\n",
              "    <tr>\n",
              "      <th>1</th>\n",
              "      <td>African Restaurant</td>\n",
              "      <td>40.684198</td>\n",
              "      <td>-73.722027</td>\n",
              "      <td>7</td>\n",
              "    </tr>\n",
              "    <tr>\n",
              "      <th>2</th>\n",
              "      <td>African Restaurant</td>\n",
              "      <td>40.686415</td>\n",
              "      <td>-73.954635</td>\n",
              "      <td>1</td>\n",
              "    </tr>\n",
              "    <tr>\n",
              "      <th>3</th>\n",
              "      <td>African Restaurant</td>\n",
              "      <td>40.689566</td>\n",
              "      <td>-73.971935</td>\n",
              "      <td>2</td>\n",
              "    </tr>\n",
              "    <tr>\n",
              "      <th>4</th>\n",
              "      <td>Airport</td>\n",
              "      <td>40.639681</td>\n",
              "      <td>-73.979935</td>\n",
              "      <td>1</td>\n",
              "    </tr>\n",
              "  </tbody>\n",
              "</table>\n",
              "</div>"
            ],
            "text/plain": [
              "  Venue_category_name   Latitude  Longitude  count\n",
              "0  African Restaurant  40.684159 -73.954289      1\n",
              "1  African Restaurant  40.684198 -73.722027      7\n",
              "2  African Restaurant  40.686415 -73.954635      1\n",
              "3  African Restaurant  40.689566 -73.971935      2\n",
              "4             Airport  40.639681 -73.979935      1"
            ]
          },
          "metadata": {
            "tags": []
          },
          "execution_count": 22
        }
      ]
    },
    {
      "cell_type": "code",
      "metadata": {
        "id": "Jc8qLhVyjufi",
        "colab_type": "code",
        "colab": {}
      },
      "source": [
        "dist_mat = DistanceMetric.get_metric('haversine').pairwise(count_df_locations.iloc[:,1:-1] )*6371"
      ],
      "execution_count": 0,
      "outputs": []
    },
    {
      "cell_type": "code",
      "metadata": {
        "id": "ecmeQR1GnXzN",
        "colab_type": "code",
        "outputId": "deec02ab-c2e6-4416-8389-1981b64bef3a",
        "colab": {
          "base_uri": "https://localhost:8080/",
          "height": 34
        }
      },
      "source": [
        "dist_mat.shape"
      ],
      "execution_count": 0,
      "outputs": [
        {
          "output_type": "execute_result",
          "data": {
            "text/plain": [
              "(5747, 5747)"
            ]
          },
          "metadata": {
            "tags": []
          },
          "execution_count": 24
        }
      ]
    },
    {
      "cell_type": "code",
      "metadata": {
        "id": "k5G-Bl38neG5",
        "colab_type": "code",
        "outputId": "a64dd2eb-2885-434b-d27f-134035d0d727",
        "colab": {
          "base_uri": "https://localhost:8080/",
          "height": 238
        }
      },
      "source": [
        "print(dist_mat)"
      ],
      "execution_count": 0,
      "outputs": [
        {
          "output_type": "stream",
          "text": [
            "[[   0.         1461.56774789   14.53249036 ... 1561.85487356\n",
            "  1320.80852852  542.22531486]\n",
            " [1461.56774789    0.         1464.07399819 ... 2913.57781798\n",
            "  2507.25587896 1667.71039199]\n",
            " [  14.53249036 1464.07399819    0.         ... 1552.47912199\n",
            "  1308.14713069  527.71794715]\n",
            " ...\n",
            " [1561.85487356 2913.57781798 1552.47912199 ...    0.\n",
            "   558.69220448 1249.03966609]\n",
            " [1320.80852852 2507.25587896 1308.14713069 ...  558.69220448\n",
            "     0.          865.71596628]\n",
            " [ 542.22531486 1667.71039199  527.71794715 ... 1249.03966609\n",
            "   865.71596628    0.        ]]\n"
          ],
          "name": "stdout"
        }
      ]
    },
    {
      "cell_type": "code",
      "metadata": {
        "id": "GrMwl5zx5sYf",
        "colab_type": "code",
        "outputId": "8fe60027-f713-4bb8-a049-1687a85b4b30",
        "colab": {
          "base_uri": "https://localhost:8080/",
          "height": 34
        }
      },
      "source": [
        "count_df_locations['Venue_category_name'][0]"
      ],
      "execution_count": 0,
      "outputs": [
        {
          "output_type": "execute_result",
          "data": {
            "text/plain": [
              "'African Restaurant'"
            ]
          },
          "metadata": {
            "tags": []
          },
          "execution_count": 26
        }
      ]
    },
    {
      "cell_type": "code",
      "metadata": {
        "colab_type": "code",
        "id": "ye1RKvYFJT8g",
        "colab": {}
      },
      "source": [
        "lst = [[] for i in range(dist_mat.shape[0])]\n",
        "for i in range(dist_mat.shape[0]):\n",
        "  for j in range(dist_mat.shape[1]):\n",
        "    if dist_mat[i][j]<=100:\n",
        "      lst[i].append((count_df_locations['Latitude'][j],count_df_locations['Longitude'][j]))\n",
        "  #dic.update(count_locations[i],lst)"
      ],
      "execution_count": 0,
      "outputs": []
    },
    {
      "cell_type": "code",
      "metadata": {
        "id": "nReum1_tSzDb",
        "colab_type": "code",
        "outputId": "3f1cfe76-f624-42e2-909e-8ffa4dacf66a",
        "colab": {
          "base_uri": "https://localhost:8080/",
          "height": 34
        }
      },
      "source": [
        "len(lst)"
      ],
      "execution_count": 0,
      "outputs": [
        {
          "output_type": "execute_result",
          "data": {
            "text/plain": [
              "5747"
            ]
          },
          "metadata": {
            "tags": []
          },
          "execution_count": 25
        }
      ]
    },
    {
      "cell_type": "code",
      "metadata": {
        "id": "_wcRaGgG7Wvo",
        "colab_type": "code",
        "outputId": "b96cb2cd-bb7e-4531-e095-0d13871a9ba3",
        "colab": {
          "base_uri": "https://localhost:8080/",
          "height": 1000
        }
      },
      "source": [
        "lst[0]"
      ],
      "execution_count": 0,
      "outputs": [
        {
          "output_type": "execute_result",
          "data": {
            "text/plain": [
              "[(40.684159398078926, -73.954289),\n",
              " (40.686414660176055, -73.95463511518253),\n",
              " (40.671638993520205, -73.96381202180841),\n",
              " (40.699108, -73.955248),\n",
              " (40.67241900279851, -73.96293496396677),\n",
              " (40.67682902605353, -73.96343804293126),\n",
              " (40.68193081222049, -73.94995122562862),\n",
              " (40.683419, -73.96637199999999),\n",
              " (40.68721847389229, -73.95717791452198),\n",
              " (40.672307292956866, -73.95784374357963),\n",
              " (40.68183918319128, -73.96677481467539),\n",
              " (40.687944, -73.96260874000002),\n",
              " (40.688462, -73.96271),\n",
              " (40.689876, -73.95139),\n",
              " (40.67228503425415, -73.9627870309687),\n",
              " (40.677492, -73.963759),\n",
              " (40.67986739997525, -73.96423214181858),\n",
              " (40.689522232043856, -73.95129203796388),\n",
              " (40.69084011789372, -73.95571231842041),\n",
              " (40.677823, -73.968826),\n",
              " (40.68470716795056, -73.94382640962874),\n",
              " (40.69032712271465, -73.95148383433914),\n",
              " (40.68919682411797, -73.95734310150145),\n",
              " (40.680630900000004, -73.94967198371887),\n",
              " (40.687415187557306, -73.96922528743744),\n",
              " (40.67843772387125, -73.9444406220427),\n",
              " (40.679954914547075, -73.94446358321666),\n",
              " (40.68696742717664, -73.96283738828879),\n",
              " (40.68898574915464, -73.95722383384107),\n",
              " (40.69042711809854, -73.954686775096),\n",
              " (40.68377534211099, -73.96766445527021),\n",
              " (40.68505643147357, -73.9662238094087),\n",
              " (40.692133573105004, -73.95323395729066),\n",
              " (40.67677676563912, -73.95361626406627),\n",
              " (40.68499608789172, -73.94186034276925),\n",
              " (40.696558013644136, -73.95361626406627),\n",
              " (40.67492686666667, -73.96673299999999),\n",
              " (40.67310342009613, -73.96270751953125),\n",
              " (40.67335042443954, -73.95708033593266),\n",
              " (40.682652000000004, -73.949999),\n",
              " (40.67523277142857, -73.94808477),\n",
              " (40.676851402943775, -73.95570849054509),\n",
              " (40.69543885215326, -73.94729352704111),\n",
              " (40.69080937894371, -73.95925575277442),\n",
              " (40.68955477274905, -73.94609928131105),\n",
              " (40.680247483456775, -73.943932056427),\n",
              " (40.67641886124958, -73.95891710110432),\n",
              " (40.67658045213404, -73.95895728014709),\n",
              " (40.686104057680225, -73.94382640962874),\n",
              " (40.68966427723383, -73.9597665990846),\n",
              " (40.693514249026215, -73.95788392284581),\n",
              " (40.679826, -73.941096),\n",
              " (40.66961585203345, -73.95960014369386),\n",
              " (40.680592944105136, -73.95582881515934),\n",
              " (40.688625489573134, -73.95996749333048),\n",
              " (40.68864362699706, -73.9611411094665),\n",
              " (40.68990542829335, -73.95177657844081),\n",
              " (40.677611, -73.963748),\n",
              " (40.683178000000005, -73.96574578),\n",
              " (40.6719052268743, -73.95019805107333)]"
            ]
          },
          "metadata": {
            "tags": []
          },
          "execution_count": 26
        }
      ]
    },
    {
      "cell_type": "markdown",
      "metadata": {
        "id": "YhcPITrUNZSY",
        "colab_type": "text"
      },
      "source": [
        "# Extracting Features"
      ]
    },
    {
      "cell_type": "markdown",
      "metadata": {
        "id": "d5LHEnEENdWL",
        "colab_type": "text"
      },
      "source": [
        "## 1. Density"
      ]
    },
    {
      "cell_type": "code",
      "metadata": {
        "id": "efF03KjCNXB_",
        "colab_type": "code",
        "colab": {}
      },
      "source": [
        "density = [len(lst[i]) for i in range(0,len(lst))]"
      ],
      "execution_count": 0,
      "outputs": []
    },
    {
      "cell_type": "code",
      "metadata": {
        "id": "oLzNjbnJOrt_",
        "colab_type": "code",
        "outputId": "22f7e4cf-1647-4dc0-b59b-53747f8f1c6a",
        "colab": {
          "base_uri": "https://localhost:8080/",
          "height": 34
        }
      },
      "source": [
        "len(density)"
      ],
      "execution_count": 0,
      "outputs": [
        {
          "output_type": "execute_result",
          "data": {
            "text/plain": [
              "5747"
            ]
          },
          "metadata": {
            "tags": []
          },
          "execution_count": 29
        }
      ]
    },
    {
      "cell_type": "code",
      "metadata": {
        "id": "mLChQOea7olq",
        "colab_type": "code",
        "outputId": "d39bac8d-3d6f-485f-9930-c380143048b2",
        "colab": {
          "base_uri": "https://localhost:8080/",
          "height": 34
        }
      },
      "source": [
        "density[5]"
      ],
      "execution_count": 0,
      "outputs": [
        {
          "output_type": "execute_result",
          "data": {
            "text/plain": [
              "23"
            ]
          },
          "metadata": {
            "tags": []
          },
          "execution_count": 31
        }
      ]
    },
    {
      "cell_type": "code",
      "metadata": {
        "id": "9oJwwzw4cZGi",
        "colab_type": "code",
        "outputId": "056d7fcb-920e-468a-9a06-2c01e92fe227",
        "colab": {
          "base_uri": "https://localhost:8080/",
          "height": 419
        }
      },
      "source": [
        "count_df_locations"
      ],
      "execution_count": 0,
      "outputs": [
        {
          "output_type": "execute_result",
          "data": {
            "text/html": [
              "<div>\n",
              "<style scoped>\n",
              "    .dataframe tbody tr th:only-of-type {\n",
              "        vertical-align: middle;\n",
              "    }\n",
              "\n",
              "    .dataframe tbody tr th {\n",
              "        vertical-align: top;\n",
              "    }\n",
              "\n",
              "    .dataframe thead th {\n",
              "        text-align: right;\n",
              "    }\n",
              "</style>\n",
              "<table border=\"1\" class=\"dataframe\">\n",
              "  <thead>\n",
              "    <tr style=\"text-align: right;\">\n",
              "      <th></th>\n",
              "      <th>Venue_category_name</th>\n",
              "      <th>Latitude</th>\n",
              "      <th>Longitude</th>\n",
              "      <th>count</th>\n",
              "    </tr>\n",
              "  </thead>\n",
              "  <tbody>\n",
              "    <tr>\n",
              "      <th>0</th>\n",
              "      <td>African Restaurant</td>\n",
              "      <td>40.684159</td>\n",
              "      <td>-73.954289</td>\n",
              "      <td>1</td>\n",
              "    </tr>\n",
              "    <tr>\n",
              "      <th>1</th>\n",
              "      <td>African Restaurant</td>\n",
              "      <td>40.684198</td>\n",
              "      <td>-73.722027</td>\n",
              "      <td>7</td>\n",
              "    </tr>\n",
              "    <tr>\n",
              "      <th>2</th>\n",
              "      <td>African Restaurant</td>\n",
              "      <td>40.686415</td>\n",
              "      <td>-73.954635</td>\n",
              "      <td>1</td>\n",
              "    </tr>\n",
              "    <tr>\n",
              "      <th>3</th>\n",
              "      <td>African Restaurant</td>\n",
              "      <td>40.689566</td>\n",
              "      <td>-73.971935</td>\n",
              "      <td>2</td>\n",
              "    </tr>\n",
              "    <tr>\n",
              "      <th>4</th>\n",
              "      <td>Airport</td>\n",
              "      <td>40.639681</td>\n",
              "      <td>-73.979935</td>\n",
              "      <td>1</td>\n",
              "    </tr>\n",
              "    <tr>\n",
              "      <th>...</th>\n",
              "      <td>...</td>\n",
              "      <td>...</td>\n",
              "      <td>...</td>\n",
              "      <td>...</td>\n",
              "    </tr>\n",
              "    <tr>\n",
              "      <th>5742</th>\n",
              "      <td>Wings Joint</td>\n",
              "      <td>40.737980</td>\n",
              "      <td>-74.030761</td>\n",
              "      <td>1</td>\n",
              "    </tr>\n",
              "    <tr>\n",
              "      <th>5743</th>\n",
              "      <td>Wings Joint</td>\n",
              "      <td>40.765263</td>\n",
              "      <td>-73.981582</td>\n",
              "      <td>1</td>\n",
              "    </tr>\n",
              "    <tr>\n",
              "      <th>5744</th>\n",
              "      <td>Wings Joint</td>\n",
              "      <td>40.815624</td>\n",
              "      <td>-74.162222</td>\n",
              "      <td>2</td>\n",
              "    </tr>\n",
              "    <tr>\n",
              "      <th>5745</th>\n",
              "      <td>Wings Joint</td>\n",
              "      <td>40.848644</td>\n",
              "      <td>-74.080977</td>\n",
              "      <td>1</td>\n",
              "    </tr>\n",
              "    <tr>\n",
              "      <th>5746</th>\n",
              "      <td>Zoo</td>\n",
              "      <td>40.767444</td>\n",
              "      <td>-73.971934</td>\n",
              "      <td>1</td>\n",
              "    </tr>\n",
              "  </tbody>\n",
              "</table>\n",
              "<p>5747 rows × 4 columns</p>\n",
              "</div>"
            ],
            "text/plain": [
              "     Venue_category_name   Latitude  Longitude  count\n",
              "0     African Restaurant  40.684159 -73.954289      1\n",
              "1     African Restaurant  40.684198 -73.722027      7\n",
              "2     African Restaurant  40.686415 -73.954635      1\n",
              "3     African Restaurant  40.689566 -73.971935      2\n",
              "4                Airport  40.639681 -73.979935      1\n",
              "...                  ...        ...        ...    ...\n",
              "5742         Wings Joint  40.737980 -74.030761      1\n",
              "5743         Wings Joint  40.765263 -73.981582      1\n",
              "5744         Wings Joint  40.815624 -74.162222      2\n",
              "5745         Wings Joint  40.848644 -74.080977      1\n",
              "5746                 Zoo  40.767444 -73.971934      1\n",
              "\n",
              "[5747 rows x 4 columns]"
            ]
          },
          "metadata": {
            "tags": []
          },
          "execution_count": 32
        }
      ]
    },
    {
      "cell_type": "code",
      "metadata": {
        "id": "kNeLAsKZVA2g",
        "colab_type": "code",
        "outputId": "409e45df-7a03-4000-846f-055d81a765db",
        "colab": {
          "base_uri": "https://localhost:8080/",
          "height": 51
        }
      },
      "source": [
        "count_df_locations[count_df_locations['Latitude']==lst[0][0][0]].Venue_category_name=='African Restaurant'"
      ],
      "execution_count": 0,
      "outputs": [
        {
          "output_type": "execute_result",
          "data": {
            "text/plain": [
              "0    True\n",
              "Name: Venue_category_name, dtype: bool"
            ]
          },
          "metadata": {
            "tags": []
          },
          "execution_count": 33
        }
      ]
    },
    {
      "cell_type": "markdown",
      "metadata": {
        "id": "4h9V25zqO4Hv",
        "colab_type": "text"
      },
      "source": [
        "## 2. Neighbors' Entropy and 3. Competitiveness"
      ]
    },
    {
      "cell_type": "code",
      "metadata": {
        "id": "2ixg6Uz-r_GU",
        "colab_type": "code",
        "colab": {}
      },
      "source": [
        "categories = count_df_locations['Venue_category_name'].unique()"
      ],
      "execution_count": 0,
      "outputs": []
    },
    {
      "cell_type": "code",
      "metadata": {
        "id": "3CrUOFbYe8Fk",
        "colab_type": "code",
        "outputId": "93f2b82b-eb88-488d-890f-18afa126b381",
        "colab": {
          "base_uri": "https://localhost:8080/",
          "height": 34
        }
      },
      "source": [
        "len(categories)"
      ],
      "execution_count": 0,
      "outputs": [
        {
          "output_type": "execute_result",
          "data": {
            "text/plain": [
              "212"
            ]
          },
          "metadata": {
            "tags": []
          },
          "execution_count": 34
        }
      ]
    },
    {
      "cell_type": "code",
      "metadata": {
        "id": "7C6sXsHZ8yAZ",
        "colab_type": "code",
        "colab": {}
      },
      "source": [
        "#lst_cat=[[] for i in range(len(lst))]\n",
        "dic={}\n",
        "for i in range(len(lst)):\n",
        "  new_lst=[]\n",
        "  for j in range(len(lst[i])):\n",
        "    new_lst.append((j,count_df_locations['Venue_category_name'][j]))\n",
        "  dic[(i,count_df_locations['Venue_category_name'][i])] = new_lst"
      ],
      "execution_count": 0,
      "outputs": []
    },
    {
      "cell_type": "code",
      "metadata": {
        "id": "WilOZ20tUY8d",
        "colab_type": "code",
        "colab": {}
      },
      "source": [
        "cat_i=np.array(dic[(0, 'African Restaurant')])[:,1:2]"
      ],
      "execution_count": 0,
      "outputs": []
    },
    {
      "cell_type": "code",
      "metadata": {
        "id": "RKS1nevhTJ1B",
        "colab_type": "code",
        "colab": {}
      },
      "source": [
        "categ = np.unique(cat_i,return_counts=True)[0]"
      ],
      "execution_count": 0,
      "outputs": []
    },
    {
      "cell_type": "code",
      "metadata": {
        "id": "fPO97DN_TSzS",
        "colab_type": "code",
        "outputId": "46dc7284-b057-4917-8e77-3f30df6c2d7c",
        "colab": {
          "base_uri": "https://localhost:8080/",
          "height": 51
        }
      },
      "source": [
        "categ"
      ],
      "execution_count": 0,
      "outputs": [
        {
          "output_type": "execute_result",
          "data": {
            "text/plain": [
              "array(['African Restaurant', 'Airport', 'American Restaurant'],\n",
              "      dtype='<U21')"
            ]
          },
          "metadata": {
            "tags": []
          },
          "execution_count": 39
        }
      ]
    },
    {
      "cell_type": "code",
      "metadata": {
        "id": "pGfX-dmEUTF_",
        "colab_type": "code",
        "colab": {}
      },
      "source": [
        "neigh_entropy=[]\n",
        "for i in list(dic.keys()):\n",
        "  fraction_class=[]\n",
        "  entropy=0\n",
        "  cat_i=np.array(dic[i])[:,1:2]\n",
        "  total_count = len(cat_i)\n",
        "  fraction_class=np.unique(cat_i,return_counts=True)[1]\n",
        "  fraction_class = fraction_class/np.sum(fraction_class)\n",
        "  for j in fraction_class:\n",
        "          entropy=entropy-j*math.log2(j)\n",
        "  neigh_entropy.append(entropy)"
      ],
      "execution_count": 0,
      "outputs": []
    },
    {
      "cell_type": "code",
      "metadata": {
        "id": "S6HFL-DZVHxX",
        "colab_type": "code",
        "outputId": "f9d3b823-2479-4279-a71d-8d6586455f93",
        "colab": {
          "base_uri": "https://localhost:8080/",
          "height": 163
        }
      },
      "source": [
        "neigh_entropy[0]"
      ],
      "execution_count": 0,
      "outputs": [
        {
          "output_type": "error",
          "ename": "NameError",
          "evalue": "ignored",
          "traceback": [
            "\u001b[0;31m---------------------------------------------------------------------------\u001b[0m",
            "\u001b[0;31mNameError\u001b[0m                                 Traceback (most recent call last)",
            "\u001b[0;32m<ipython-input-55-b0d28e5a0267>\u001b[0m in \u001b[0;36m<module>\u001b[0;34m()\u001b[0m\n\u001b[0;32m----> 1\u001b[0;31m \u001b[0mneigh_entropy\u001b[0m\u001b[0;34m[\u001b[0m\u001b[0;36m0\u001b[0m\u001b[0;34m]\u001b[0m\u001b[0;34m\u001b[0m\u001b[0;34m\u001b[0m\u001b[0m\n\u001b[0m",
            "\u001b[0;31mNameError\u001b[0m: name 'neigh_entropy' is not defined"
          ]
        }
      ]
    },
    {
      "cell_type": "code",
      "metadata": {
        "id": "t67tuw08gPC0",
        "colab_type": "code",
        "outputId": "90b51f03-2baf-4aa8-ad02-a65990182bb8",
        "colab": {
          "base_uri": "https://localhost:8080/",
          "height": 34
        }
      },
      "source": [
        "np.unique(cat_i,return_counts=True)[0][0] in dic[i][1]"
      ],
      "execution_count": 0,
      "outputs": [
        {
          "output_type": "execute_result",
          "data": {
            "text/plain": [
              "True"
            ]
          },
          "metadata": {
            "tags": []
          },
          "execution_count": 42
        }
      ]
    },
    {
      "cell_type": "code",
      "metadata": {
        "id": "umS4HfshgcvR",
        "colab_type": "code",
        "outputId": "cbcbfec4-d240-417a-ff97-eed032449a7b",
        "colab": {
          "base_uri": "https://localhost:8080/",
          "height": 136
        }
      },
      "source": [
        "np.unique(cat_i,return_counts=True)"
      ],
      "execution_count": 0,
      "outputs": [
        {
          "output_type": "execute_result",
          "data": {
            "text/plain": [
              "(array(['African Restaurant', 'Airport', 'American Restaurant',\n",
              "        'Animal Shelter', 'Antique Shop', 'Arcade', 'Art Gallery',\n",
              "        'Art Museum', 'Arts & Crafts Store', 'Arts & Entertainment',\n",
              "        'Asian Restaurant', 'Athletic & Sport', 'Automotive Shop',\n",
              "        'BBQ Joint', 'Bagel Shop', 'Bakery', 'Bank', 'Bar'], dtype='<U21'),\n",
              " array([  4,  30, 118,   2,   1,   9,  14,  10,   7,   1,  25,  16,  17,\n",
              "         32,  14,  51,  71, 131]))"
            ]
          },
          "metadata": {
            "tags": []
          },
          "execution_count": 43
        }
      ]
    },
    {
      "cell_type": "code",
      "metadata": {
        "id": "ipakXSyYSaQq",
        "colab_type": "code",
        "outputId": "f5f4cb64-5109-4cef-af15-a93f741d6c0d",
        "colab": {
          "base_uri": "https://localhost:8080/",
          "height": 34
        }
      },
      "source": [
        "(0, 'African Restaurant')[1]"
      ],
      "execution_count": 0,
      "outputs": [
        {
          "output_type": "execute_result",
          "data": {
            "text/plain": [
              "'African Restaurant'"
            ]
          },
          "metadata": {
            "tags": []
          },
          "execution_count": 44
        }
      ]
    },
    {
      "cell_type": "code",
      "metadata": {
        "id": "OyvXnRqifjHl",
        "colab_type": "code",
        "colab": {}
      },
      "source": [
        "def entropy_competi(dic):\n",
        "  neigh_entropy=[]\n",
        "  competitiveness=[]\n",
        "  for i in list(dic.keys()):\n",
        "    fraction_class=[]\n",
        "    competition=0\n",
        "    entropy=0\n",
        "    cat_i=np.array(dic[i])[:,1:2]\n",
        "    total_count = len(cat_i)\n",
        "    categ = np.unique(cat_i,return_counts=True)[0]\n",
        "    fraction_class=np.unique(cat_i,return_counts=True)[1]\n",
        "    fraction_class = fraction_class/np.sum(fraction_class)\n",
        "    for j in range(len(categ)):\n",
        "      if(categ[j] == i[1]):\n",
        "        competition = fraction_class[j]\n",
        "        break\n",
        "    competitiveness.append(competition)\n",
        "    for k in fraction_class:\n",
        "            entropy=entropy-k*math.log2(k)\n",
        "    neigh_entropy.append(entropy)\n",
        "  return((competitiveness,neigh_entropy))"
      ],
      "execution_count": 0,
      "outputs": []
    },
    {
      "cell_type": "code",
      "metadata": {
        "id": "er93EB0MXYqT",
        "colab_type": "code",
        "colab": {}
      },
      "source": [
        "comp,ne = entropy_competi(dic)"
      ],
      "execution_count": 0,
      "outputs": []
    },
    {
      "cell_type": "code",
      "metadata": {
        "id": "r5EpHKhLX_f0",
        "colab_type": "code",
        "outputId": "5db0aab8-2d58-4527-e97a-6ac74b90ce7d",
        "colab": {
          "base_uri": "https://localhost:8080/",
          "height": 34
        }
      },
      "source": [
        "ne[0]"
      ],
      "execution_count": 0,
      "outputs": [
        {
          "output_type": "execute_result",
          "data": {
            "text/plain": [
              "1.2832547532764527"
            ]
          },
          "metadata": {
            "tags": []
          },
          "execution_count": 57
        }
      ]
    },
    {
      "cell_type": "code",
      "metadata": {
        "id": "9Cq4cgFaU3r3",
        "colab_type": "code",
        "outputId": "67e32c57-ede6-433d-b284-f0217f851076",
        "colab": {
          "base_uri": "https://localhost:8080/",
          "height": 34
        }
      },
      "source": [
        "len(neigh_entropy)"
      ],
      "execution_count": 0,
      "outputs": [
        {
          "output_type": "execute_result",
          "data": {
            "text/plain": [
              "5747"
            ]
          },
          "metadata": {
            "tags": []
          },
          "execution_count": 48
        }
      ]
    },
    {
      "cell_type": "code",
      "metadata": {
        "id": "zTEmNPVvU8Po",
        "colab_type": "code",
        "outputId": "e0c8e608-4f47-45af-f292-cff278772299",
        "colab": {
          "base_uri": "https://localhost:8080/",
          "height": 34
        }
      },
      "source": [
        "neigh_entropy[0]"
      ],
      "execution_count": 0,
      "outputs": [
        {
          "output_type": "execute_result",
          "data": {
            "text/plain": [
              "1.2832547532764527"
            ]
          },
          "metadata": {
            "tags": []
          },
          "execution_count": 49
        }
      ]
    },
    {
      "cell_type": "code",
      "metadata": {
        "id": "UyJ8PvezfVyI",
        "colab_type": "code",
        "outputId": "da629e68-af0e-4f5e-e58f-d0cbd7d2e83b",
        "colab": {
          "base_uri": "https://localhost:8080/",
          "height": 102
        }
      },
      "source": [
        "np.unique(cat_i,return_counts=True)[0]"
      ],
      "execution_count": 0,
      "outputs": [
        {
          "output_type": "execute_result",
          "data": {
            "text/plain": [
              "array(['African Restaurant', 'Airport', 'American Restaurant',\n",
              "       'Animal Shelter', 'Antique Shop', 'Arcade', 'Art Gallery',\n",
              "       'Art Museum', 'Arts & Crafts Store', 'Arts & Entertainment',\n",
              "       'Asian Restaurant', 'Athletic & Sport', 'Automotive Shop',\n",
              "       'BBQ Joint', 'Bagel Shop', 'Bakery', 'Bank', 'Bar'], dtype='<U21')"
            ]
          },
          "metadata": {
            "tags": []
          },
          "execution_count": 50
        }
      ]
    },
    {
      "cell_type": "code",
      "metadata": {
        "id": "U2Huzmj3b5CW",
        "colab_type": "code",
        "outputId": "3a81d26c-94ef-4e4e-f04b-21853598ebc5",
        "colab": {
          "base_uri": "https://localhost:8080/",
          "height": 34
        }
      },
      "source": [
        "len(neigh_entropy)"
      ],
      "execution_count": 0,
      "outputs": [
        {
          "output_type": "execute_result",
          "data": {
            "text/plain": [
              "5747"
            ]
          },
          "metadata": {
            "tags": []
          },
          "execution_count": 51
        }
      ]
    },
    {
      "cell_type": "code",
      "metadata": {
        "id": "D583PoXrc5f6",
        "colab_type": "code",
        "outputId": "3a57d03b-cab7-4e58-bcc9-97ee7ddebfc2",
        "colab": {
          "base_uri": "https://localhost:8080/",
          "height": 34
        }
      },
      "source": [
        "len(density)"
      ],
      "execution_count": 0,
      "outputs": [
        {
          "output_type": "execute_result",
          "data": {
            "text/plain": [
              "5747"
            ]
          },
          "metadata": {
            "tags": []
          },
          "execution_count": 52
        }
      ]
    },
    {
      "cell_type": "markdown",
      "metadata": {
        "id": "GXdEGMbcdPXx",
        "colab_type": "text"
      },
      "source": [
        "## 4. Quality by Jensen"
      ]
    },
    {
      "cell_type": "code",
      "metadata": {
        "id": "9nI5f7FSfFvr",
        "colab_type": "code",
        "outputId": "039ab251-753f-402a-d5fe-8ba3f5b7eaca",
        "colab": {
          "base_uri": "https://localhost:8080/",
          "height": 34
        }
      },
      "source": [
        "categories[0]"
      ],
      "execution_count": 0,
      "outputs": [
        {
          "output_type": "execute_result",
          "data": {
            "text/plain": [
              "'African Restaurant'"
            ]
          },
          "metadata": {
            "tags": []
          },
          "execution_count": 53
        }
      ]
    },
    {
      "cell_type": "code",
      "metadata": {
        "id": "iiKwgIvQgUuO",
        "colab_type": "code",
        "outputId": "4b648af4-8da0-4fa0-ecc6-a2f85aba7645",
        "colab": {
          "base_uri": "https://localhost:8080/",
          "height": 51
        }
      },
      "source": [
        "np.unique(np.array(dic[list(dic.keys())[0]])[:,1:2])"
      ],
      "execution_count": 0,
      "outputs": [
        {
          "output_type": "execute_result",
          "data": {
            "text/plain": [
              "array(['African Restaurant', 'Airport', 'American Restaurant'],\n",
              "      dtype='<U21')"
            ]
          },
          "metadata": {
            "tags": []
          },
          "execution_count": 54
        }
      ]
    },
    {
      "cell_type": "code",
      "metadata": {
        "id": "ocFdnLaJhjrr",
        "colab_type": "code",
        "colab": {}
      },
      "source": [
        "neig_mat = np.zeros((len(categories),len(categories)))"
      ],
      "execution_count": 0,
      "outputs": []
    },
    {
      "cell_type": "code",
      "metadata": {
        "id": "NzDKawgHhv9T",
        "colab_type": "code",
        "outputId": "5bff47a0-da7f-4dfd-a6ba-3c0c748100b5",
        "colab": {
          "base_uri": "https://localhost:8080/",
          "height": 34
        }
      },
      "source": [
        "\n",
        "neig_mat.shape"
      ],
      "execution_count": 0,
      "outputs": [
        {
          "output_type": "execute_result",
          "data": {
            "text/plain": [
              "(212, 212)"
            ]
          },
          "metadata": {
            "tags": []
          },
          "execution_count": 56
        }
      ]
    },
    {
      "cell_type": "code",
      "metadata": {
        "id": "jE2He-AHh21J",
        "colab_type": "code",
        "outputId": "a9e15d6c-9ae3-4156-b488-cd4cf7d8d1c4",
        "colab": {
          "base_uri": "https://localhost:8080/",
          "height": 34
        }
      },
      "source": [
        "neig_mat[0][0]"
      ],
      "execution_count": 0,
      "outputs": [
        {
          "output_type": "execute_result",
          "data": {
            "text/plain": [
              "0.0"
            ]
          },
          "metadata": {
            "tags": []
          },
          "execution_count": 57
        }
      ]
    },
    {
      "cell_type": "code",
      "metadata": {
        "id": "2HaNwmvXirIy",
        "colab_type": "code",
        "colab": {}
      },
      "source": [
        "np.unique(np.array(dic[(0, 'African Restaurant')])[:,1:2],return_counts=True)[1]"
      ],
      "execution_count": 0,
      "outputs": []
    },
    {
      "cell_type": "code",
      "metadata": {
        "id": "pHvUACr3G7Wf",
        "colab_type": "code",
        "colab": {}
      },
      "source": [
        "def count_cat(j,i):\n",
        "  if(dic[j][1]==i): \n",
        "    count+=i\n"
      ],
      "execution_count": 0,
      "outputs": []
    },
    {
      "cell_type": "code",
      "metadata": {
        "id": "p6YC7061GU8C",
        "colab_type": "code",
        "colab": {}
      },
      "source": [
        "for j in range(len(lst)):\n",
        "  for i in categories:\n",
        "    if(dic[j[1]==i]):\n",
        "      count_i+=1 \n",
        "    "
      ],
      "execution_count": 0,
      "outputs": []
    },
    {
      "cell_type": "markdown",
      "metadata": {
        "id": "I98NzmtJM_0-",
        "colab_type": "text"
      },
      "source": [
        "## 5. Area Popularity"
      ]
    },
    {
      "cell_type": "code",
      "metadata": {
        "id": "TEKsu2S-oLRk",
        "colab_type": "code",
        "outputId": "f1a5cc89-8856-4892-ca79-5af1497896d5",
        "colab": {
          "base_uri": "https://localhost:8080/",
          "height": 204
        }
      },
      "source": [
        "count_df_locations.head()"
      ],
      "execution_count": 0,
      "outputs": [
        {
          "output_type": "execute_result",
          "data": {
            "text/html": [
              "<div>\n",
              "<style scoped>\n",
              "    .dataframe tbody tr th:only-of-type {\n",
              "        vertical-align: middle;\n",
              "    }\n",
              "\n",
              "    .dataframe tbody tr th {\n",
              "        vertical-align: top;\n",
              "    }\n",
              "\n",
              "    .dataframe thead th {\n",
              "        text-align: right;\n",
              "    }\n",
              "</style>\n",
              "<table border=\"1\" class=\"dataframe\">\n",
              "  <thead>\n",
              "    <tr style=\"text-align: right;\">\n",
              "      <th></th>\n",
              "      <th>Venue_category_name</th>\n",
              "      <th>Latitude</th>\n",
              "      <th>Longitude</th>\n",
              "      <th>count</th>\n",
              "    </tr>\n",
              "  </thead>\n",
              "  <tbody>\n",
              "    <tr>\n",
              "      <th>0</th>\n",
              "      <td>African Restaurant</td>\n",
              "      <td>40.684159</td>\n",
              "      <td>-73.954289</td>\n",
              "      <td>1</td>\n",
              "    </tr>\n",
              "    <tr>\n",
              "      <th>1</th>\n",
              "      <td>African Restaurant</td>\n",
              "      <td>40.684198</td>\n",
              "      <td>-73.722027</td>\n",
              "      <td>7</td>\n",
              "    </tr>\n",
              "    <tr>\n",
              "      <th>2</th>\n",
              "      <td>African Restaurant</td>\n",
              "      <td>40.686415</td>\n",
              "      <td>-73.954635</td>\n",
              "      <td>1</td>\n",
              "    </tr>\n",
              "    <tr>\n",
              "      <th>3</th>\n",
              "      <td>African Restaurant</td>\n",
              "      <td>40.689566</td>\n",
              "      <td>-73.971935</td>\n",
              "      <td>2</td>\n",
              "    </tr>\n",
              "    <tr>\n",
              "      <th>4</th>\n",
              "      <td>Airport</td>\n",
              "      <td>40.639681</td>\n",
              "      <td>-73.979935</td>\n",
              "      <td>1</td>\n",
              "    </tr>\n",
              "  </tbody>\n",
              "</table>\n",
              "</div>"
            ],
            "text/plain": [
              "  Venue_category_name   Latitude  Longitude  count\n",
              "0  African Restaurant  40.684159 -73.954289      1\n",
              "1  African Restaurant  40.684198 -73.722027      7\n",
              "2  African Restaurant  40.686415 -73.954635      1\n",
              "3  African Restaurant  40.689566 -73.971935      2\n",
              "4             Airport  40.639681 -73.979935      1"
            ]
          },
          "metadata": {
            "tags": []
          },
          "execution_count": 62
        }
      ]
    },
    {
      "cell_type": "code",
      "metadata": {
        "id": "rb1Eoy-8n0yx",
        "colab_type": "code",
        "outputId": "c82b3687-6564-4dd5-9db4-dc2f4c7cf698",
        "colab": {
          "base_uri": "https://localhost:8080/",
          "height": 34
        }
      },
      "source": [
        "np.sum([density[i]==0 for i in range(len(density))])"
      ],
      "execution_count": 0,
      "outputs": [
        {
          "output_type": "execute_result",
          "data": {
            "text/plain": [
              "0"
            ]
          },
          "metadata": {
            "tags": []
          },
          "execution_count": 63
        }
      ]
    },
    {
      "cell_type": "code",
      "metadata": {
        "id": "Jl4PrtsLyLSi",
        "colab_type": "code",
        "outputId": "c5fa3161-eb5b-4039-aa74-e1b7ea3d2c37",
        "colab": {
          "base_uri": "https://localhost:8080/",
          "height": 595
        }
      },
      "source": [
        "lst[4]"
      ],
      "execution_count": 0,
      "outputs": [
        {
          "output_type": "execute_result",
          "data": {
            "text/plain": [
              "[(40.63968085124788, -73.97993533649185),\n",
              " (40.63546678381779, -73.99186684082225),\n",
              " (40.6365, -73.98679),\n",
              " (40.636735711488974, -73.99040342059492),\n",
              " (40.634856, -73.965126),\n",
              " (40.63949763333333, -73.97983020000002),\n",
              " (40.63605511596764, -73.99116669606713),\n",
              " (40.653046, -73.973021),\n",
              " (40.62586036296825, -73.97625071067725),\n",
              " (40.648436832434776, -73.97850626102887),\n",
              " (40.651622570231545, -73.97572268998049),\n",
              " (40.63981002719504, -73.96745208982402),\n",
              " (40.639901, -73.983202),\n",
              " (40.6394869711505, -73.97977360650297),\n",
              " (40.639413333333344, -73.97987413333334),\n",
              " (40.642719, -73.97949),\n",
              " (40.643109, -73.983272),\n",
              " (40.626571000000006, -73.97696897971106),\n",
              " (40.639413333333344, -73.97982253333333),\n",
              " (40.634242310367384, -73.98054369471026),\n",
              " (40.64715352960956, -73.97881044263973),\n",
              " (40.63063339189206, -73.97712595918333),\n",
              " (40.632300871701176, -73.98887973002674),\n",
              " (40.64053341403471, -73.97712595918333),\n",
              " (40.642200982303464, -73.98887973002674),\n",
              " (40.639489815065495, -73.97976889853065),\n",
              " (40.63005374686578, -73.97696812777984),\n",
              " (40.63959493837358, -73.97915479859958),\n",
              " (40.651731755230315, -73.97266387939453),\n",
              " (40.637357, -73.99001),\n",
              " (40.6410350100745, -73.97974020231588),\n",
              " (40.639413333333344, -73.97987413333334),\n",
              " (40.644042999999996, -73.976789),\n",
              " (40.63489672592632, -73.98903181267967)]"
            ]
          },
          "metadata": {
            "tags": []
          },
          "execution_count": 64
        }
      ]
    },
    {
      "cell_type": "code",
      "metadata": {
        "id": "SEmSR54TyOsp",
        "colab_type": "code",
        "colab": {}
      },
      "source": [
        "count=0\n",
        "area_pop=[]\n",
        "for j in lst[4]:\n",
        "    for k in range(count_df_locations.shape[1]):\n",
        "      if(j[0]==count_df_locations['Latitude'].values[k]):\n",
        "        print(count)\n",
        "        count+=count_df_locations['count'][k]\n",
        "area_pop.append(count)"
      ],
      "execution_count": 0,
      "outputs": []
    },
    {
      "cell_type": "code",
      "metadata": {
        "id": "9Dg2iAkWzp8I",
        "colab_type": "code",
        "outputId": "6ad579a2-24a7-4d1c-a90a-dc56d01cd299",
        "colab": {
          "base_uri": "https://localhost:8080/",
          "height": 34
        }
      },
      "source": [
        "area_pop"
      ],
      "execution_count": 0,
      "outputs": [
        {
          "output_type": "execute_result",
          "data": {
            "text/plain": [
              "[0]"
            ]
          },
          "metadata": {
            "tags": []
          },
          "execution_count": 69
        }
      ]
    },
    {
      "cell_type": "code",
      "metadata": {
        "id": "InHIS9dx31t5",
        "colab_type": "code",
        "outputId": "64189080-f1da-43c0-c276-21d52ed7cede",
        "colab": {
          "base_uri": "https://localhost:8080/",
          "height": 34
        }
      },
      "source": [
        "count_df_locations['count'][0]"
      ],
      "execution_count": 0,
      "outputs": [
        {
          "output_type": "execute_result",
          "data": {
            "text/plain": [
              "1"
            ]
          },
          "metadata": {
            "tags": []
          },
          "execution_count": 70
        }
      ]
    },
    {
      "cell_type": "code",
      "metadata": {
        "id": "ZTfBgIU90yus",
        "colab_type": "code",
        "outputId": "84f48eac-2e57-45cf-9935-e9d00adbc53e",
        "colab": {
          "base_uri": "https://localhost:8080/",
          "height": 34
        }
      },
      "source": [
        "lst[4][0][0]==40.63968085124788"
      ],
      "execution_count": 0,
      "outputs": [
        {
          "output_type": "execute_result",
          "data": {
            "text/plain": [
              "True"
            ]
          },
          "metadata": {
            "tags": []
          },
          "execution_count": 71
        }
      ]
    },
    {
      "cell_type": "code",
      "metadata": {
        "id": "VLSHNV7DynmX",
        "colab_type": "code",
        "outputId": "d969b988-3aa2-4791-cd91-e094a4483d78",
        "colab": {
          "base_uri": "https://localhost:8080/",
          "height": 34
        }
      },
      "source": [
        "lst[4][0][0] in count_df_locations['Latitude'].values"
      ],
      "execution_count": 0,
      "outputs": [
        {
          "output_type": "execute_result",
          "data": {
            "text/plain": [
              "True"
            ]
          },
          "metadata": {
            "tags": []
          },
          "execution_count": 72
        }
      ]
    },
    {
      "cell_type": "code",
      "metadata": {
        "id": "2v8ZAeFR2pDF",
        "colab_type": "code",
        "outputId": "5396c8fb-32cd-46fc-ddd9-9dc70b235675",
        "colab": {
          "base_uri": "https://localhost:8080/",
          "height": 34
        }
      },
      "source": [
        "lst[0][0][0]"
      ],
      "execution_count": 0,
      "outputs": [
        {
          "output_type": "execute_result",
          "data": {
            "text/plain": [
              "40.684159398078926"
            ]
          },
          "metadata": {
            "tags": []
          },
          "execution_count": 73
        }
      ]
    },
    {
      "cell_type": "code",
      "metadata": {
        "id": "74tnQkfo2u6q",
        "colab_type": "code",
        "outputId": "5dc0d3c8-dc3a-449a-9d15-5e43ffb7102d",
        "colab": {
          "base_uri": "https://localhost:8080/",
          "height": 34
        }
      },
      "source": [
        "count_df_locations['Latitude'][0]"
      ],
      "execution_count": 0,
      "outputs": [
        {
          "output_type": "execute_result",
          "data": {
            "text/plain": [
              "40.684159398078926"
            ]
          },
          "metadata": {
            "tags": []
          },
          "execution_count": 74
        }
      ]
    },
    {
      "cell_type": "code",
      "metadata": {
        "id": "Xz06J5LPlvWH",
        "colab_type": "code",
        "outputId": "ad3b8dda-c556-4207-87e7-485e51a5a828",
        "colab": {
          "base_uri": "https://localhost:8080/",
          "height": 1000
        }
      },
      "source": [
        "area_pop=[]\n",
        "for i in range(len(lst)):\n",
        "  count=0\n",
        "  for j in lst[i]:\n",
        "    for k in range(count_df_locations.shape[1]):\n",
        "      if(j[0]==count_df_locations['Latitude'][k]):\n",
        "        print((j[0],k))\n",
        "        count+=count_df_locations['count'][k]\n",
        "  area_pop.append(count)"
      ],
      "execution_count": 0,
      "outputs": [
        {
          "output_type": "stream",
          "text": [
            "(40.684159398078926, 0)\n",
            "(40.686414660176055, 2)\n",
            "(40.68419809161396, 1)\n",
            "(40.684159398078926, 0)\n",
            "(40.686414660176055, 2)\n",
            "(40.68956576688808, 3)\n",
            "(40.68956576688808, 3)\n",
            "(40.68956576688808, 3)\n",
            "(40.68956576688808, 3)\n",
            "(40.68956576688808, 3)\n",
            "(40.684159398078926, 0)\n",
            "(40.684159398078926, 0)\n",
            "(40.686414660176055, 2)\n",
            "(40.68956576688808, 3)\n",
            "(40.68956576688808, 3)\n",
            "(40.686414660176055, 2)\n",
            "(40.684159398078926, 0)\n",
            "(40.68956576688808, 3)\n",
            "(40.684159398078926, 0)\n",
            "(40.686414660176055, 2)\n",
            "(40.68956576688808, 3)\n",
            "(40.68956576688808, 3)\n",
            "(40.68956576688808, 3)\n",
            "(40.68956576688808, 3)\n",
            "(40.68956576688808, 3)\n",
            "(40.684159398078926, 0)\n",
            "(40.686414660176055, 2)\n",
            "(40.684159398078926, 0)\n",
            "(40.686414660176055, 2)\n",
            "(40.68956576688808, 3)\n",
            "(40.68956576688808, 3)\n",
            "(40.68956576688808, 3)\n",
            "(40.684159398078926, 0)\n",
            "(40.686414660176055, 2)\n",
            "(40.68956576688808, 3)\n",
            "(40.68419809161396, 1)\n",
            "(40.68956576688808, 3)\n",
            "(40.686414660176055, 2)\n",
            "(40.684159398078926, 0)\n",
            "(40.686414660176055, 2)\n",
            "(40.684159398078926, 0)\n",
            "(40.686414660176055, 2)\n",
            "(40.68956576688808, 3)\n",
            "(40.68956576688808, 3)\n",
            "(40.68956576688808, 3)\n",
            "(40.68956576688808, 3)\n",
            "(40.68956576688808, 3)\n",
            "(40.68956576688808, 3)\n",
            "(40.68956576688808, 3)\n",
            "(40.68956576688808, 3)\n",
            "(40.68419809161396, 1)\n",
            "(40.68956576688808, 3)\n",
            "(40.68956576688808, 3)\n",
            "(40.686414660176055, 2)\n",
            "(40.68956576688808, 3)\n",
            "(40.68956576688808, 3)\n",
            "(40.684159398078926, 0)\n",
            "(40.686414660176055, 2)\n",
            "(40.68956576688808, 3)\n",
            "(40.684159398078926, 0)\n",
            "(40.686414660176055, 2)\n",
            "(40.68956576688808, 3)\n",
            "(40.684159398078926, 0)\n",
            "(40.686414660176055, 2)\n",
            "(40.684159398078926, 0)\n",
            "(40.68956576688808, 3)\n",
            "(40.68956576688808, 3)\n",
            "(40.68419809161396, 1)\n",
            "(40.68956576688808, 3)\n",
            "(40.68956576688808, 3)\n",
            "(40.684159398078926, 0)\n",
            "(40.686414660176055, 2)\n",
            "(40.68956576688808, 3)\n",
            "(40.68956576688808, 3)\n",
            "(40.684159398078926, 0)\n",
            "(40.686414660176055, 2)\n",
            "(40.68956576688808, 3)\n",
            "(40.68956576688808, 3)\n",
            "(40.68419809161396, 1)\n",
            "(40.684159398078926, 0)\n",
            "(40.686414660176055, 2)\n",
            "(40.68419809161396, 1)\n",
            "(40.684159398078926, 0)\n",
            "(40.686414660176055, 2)\n",
            "(40.68956576688808, 3)\n",
            "(40.68956576688808, 3)\n",
            "(40.684159398078926, 0)\n",
            "(40.68956576688808, 3)\n",
            "(40.68956576688808, 3)\n",
            "(40.68419809161396, 1)\n",
            "(40.684159398078926, 0)\n",
            "(40.686414660176055, 2)\n",
            "(40.68419809161396, 1)\n",
            "(40.684159398078926, 0)\n",
            "(40.686414660176055, 2)\n",
            "(40.68419809161396, 1)\n",
            "(40.68956576688808, 3)\n",
            "(40.686414660176055, 2)\n",
            "(40.68956576688808, 3)\n",
            "(40.68419809161396, 1)\n",
            "(40.68419809161396, 1)\n",
            "(40.684159398078926, 0)\n",
            "(40.686414660176055, 2)\n",
            "(40.68956576688808, 3)\n",
            "(40.68956576688808, 3)\n",
            "(40.68419809161396, 1)\n",
            "(40.686414660176055, 2)\n",
            "(40.68419809161396, 1)\n",
            "(40.684159398078926, 0)\n",
            "(40.686414660176055, 2)\n",
            "(40.684159398078926, 0)\n",
            "(40.686414660176055, 2)\n",
            "(40.68956576688808, 3)\n",
            "(40.68956576688808, 3)\n",
            "(40.68956576688808, 3)\n",
            "(40.68956576688808, 3)\n",
            "(40.684159398078926, 0)\n",
            "(40.686414660176055, 2)\n",
            "(40.684159398078926, 0)\n",
            "(40.686414660176055, 2)\n",
            "(40.68419809161396, 1)\n",
            "(40.68419809161396, 1)\n",
            "(40.68956576688808, 3)\n",
            "(40.684159398078926, 0)\n",
            "(40.686414660176055, 2)\n",
            "(40.68956576688808, 3)\n",
            "(40.684159398078926, 0)\n",
            "(40.686414660176055, 2)\n",
            "(40.68956576688808, 3)\n",
            "(40.684159398078926, 0)\n",
            "(40.686414660176055, 2)\n",
            "(40.68419809161396, 1)\n",
            "(40.68419809161396, 1)\n",
            "(40.684159398078926, 0)\n",
            "(40.686414660176055, 2)\n",
            "(40.68956576688808, 3)\n",
            "(40.68956576688808, 3)\n",
            "(40.68419809161396, 1)\n",
            "(40.68419809161396, 1)\n",
            "(40.684159398078926, 0)\n",
            "(40.686414660176055, 2)\n",
            "(40.68956576688808, 3)\n",
            "(40.68419809161396, 1)\n",
            "(40.68956576688808, 3)\n",
            "(40.68956576688808, 3)\n",
            "(40.68956576688808, 3)\n",
            "(40.686414660176055, 2)\n",
            "(40.68956576688808, 3)\n",
            "(40.68956576688808, 3)\n",
            "(40.684159398078926, 0)\n",
            "(40.686414660176055, 2)\n",
            "(40.68419809161396, 1)\n",
            "(40.684159398078926, 0)\n",
            "(40.686414660176055, 2)\n",
            "(40.68956576688808, 3)\n",
            "(40.68419809161396, 1)\n",
            "(40.684159398078926, 0)\n",
            "(40.686414660176055, 2)\n",
            "(40.686414660176055, 2)\n",
            "(40.684159398078926, 0)\n",
            "(40.686414660176055, 2)\n",
            "(40.68956576688808, 3)\n",
            "(40.684159398078926, 0)\n",
            "(40.68956576688808, 3)\n",
            "(40.684159398078926, 0)\n",
            "(40.686414660176055, 2)\n",
            "(40.68956576688808, 3)\n",
            "(40.68419809161396, 1)\n",
            "(40.68956576688808, 3)\n",
            "(40.68956576688808, 3)\n",
            "(40.68956576688808, 3)\n",
            "(40.68956576688808, 3)\n",
            "(40.684159398078926, 0)\n",
            "(40.686414660176055, 2)\n",
            "(40.68956576688808, 3)\n",
            "(40.684159398078926, 0)\n",
            "(40.686414660176055, 2)\n",
            "(40.68956576688808, 3)\n",
            "(40.68956576688808, 3)\n",
            "(40.68956576688808, 3)\n",
            "(40.68956576688808, 3)\n",
            "(40.68419809161396, 1)\n",
            "(40.684159398078926, 0)\n",
            "(40.686414660176055, 2)\n",
            "(40.68956576688808, 3)\n",
            "(40.68956576688808, 3)\n",
            "(40.68956576688808, 3)\n",
            "(40.68956576688808, 3)\n",
            "(40.68956576688808, 3)\n",
            "(40.684159398078926, 0)\n",
            "(40.686414660176055, 2)\n",
            "(40.68419809161396, 1)\n",
            "(40.684159398078926, 0)\n",
            "(40.686414660176055, 2)\n",
            "(40.684159398078926, 0)\n",
            "(40.686414660176055, 2)\n",
            "(40.68956576688808, 3)\n",
            "(40.684159398078926, 0)\n",
            "(40.686414660176055, 2)\n",
            "(40.68956576688808, 3)\n",
            "(40.68956576688808, 3)\n",
            "(40.684159398078926, 0)\n",
            "(40.686414660176055, 2)\n",
            "(40.68956576688808, 3)\n",
            "(40.68956576688808, 3)\n",
            "(40.68956576688808, 3)\n",
            "(40.684159398078926, 0)\n",
            "(40.686414660176055, 2)\n",
            "(40.684159398078926, 0)\n",
            "(40.686414660176055, 2)\n",
            "(40.68419809161396, 1)\n",
            "(40.684159398078926, 0)\n",
            "(40.686414660176055, 2)\n",
            "(40.684159398078926, 0)\n",
            "(40.686414660176055, 2)\n",
            "(40.68956576688808, 3)\n",
            "(40.684159398078926, 0)\n",
            "(40.686414660176055, 2)\n",
            "(40.68956576688808, 3)\n",
            "(40.68956576688808, 3)\n",
            "(40.68956576688808, 3)\n",
            "(40.68419809161396, 1)\n",
            "(40.684159398078926, 0)\n",
            "(40.686414660176055, 2)\n",
            "(40.68956576688808, 3)\n",
            "(40.68419809161396, 1)\n",
            "(40.68956576688808, 3)\n",
            "(40.68956576688808, 3)\n",
            "(40.684159398078926, 0)\n",
            "(40.684159398078926, 0)\n",
            "(40.686414660176055, 2)\n",
            "(40.68956576688808, 3)\n",
            "(40.68956576688808, 3)\n",
            "(40.68956576688808, 3)\n",
            "(40.68956576688808, 3)\n",
            "(40.684159398078926, 0)\n",
            "(40.686414660176055, 2)\n",
            "(40.68956576688808, 3)\n",
            "(40.684159398078926, 0)\n",
            "(40.686414660176055, 2)\n",
            "(40.68956576688808, 3)\n",
            "(40.684159398078926, 0)\n",
            "(40.686414660176055, 2)\n",
            "(40.68956576688808, 3)\n",
            "(40.68956576688808, 3)\n",
            "(40.686414660176055, 2)\n",
            "(40.684159398078926, 0)\n",
            "(40.686414660176055, 2)\n",
            "(40.68956576688808, 3)\n",
            "(40.68956576688808, 3)\n",
            "(40.684159398078926, 0)\n",
            "(40.686414660176055, 2)\n",
            "(40.68956576688808, 3)\n",
            "(40.68956576688808, 3)\n",
            "(40.68956576688808, 3)\n",
            "(40.68956576688808, 3)\n",
            "(40.684159398078926, 0)\n",
            "(40.686414660176055, 2)\n",
            "(40.68956576688808, 3)\n"
          ],
          "name": "stdout"
        }
      ]
    },
    {
      "cell_type": "code",
      "metadata": {
        "id": "eDs-T0IguokB",
        "colab_type": "code",
        "outputId": "9a6e876c-349d-4ef8-b17a-b195f8b53ef7",
        "colab": {
          "base_uri": "https://localhost:8080/",
          "height": 34
        }
      },
      "source": [
        "np.sum(area_pop)"
      ],
      "execution_count": 0,
      "outputs": [
        {
          "output_type": "execute_result",
          "data": {
            "text/plain": [
              "536"
            ]
          },
          "metadata": {
            "tags": []
          },
          "execution_count": 60
        }
      ]
    },
    {
      "cell_type": "code",
      "metadata": {
        "id": "8GB6Gl7ku2U0",
        "colab_type": "code",
        "outputId": "766f773b-ac33-40be-bae6-8951fda73f62",
        "colab": {
          "base_uri": "https://localhost:8080/",
          "height": 34
        }
      },
      "source": [
        "area_pop[4]"
      ],
      "execution_count": 0,
      "outputs": [
        {
          "output_type": "execute_result",
          "data": {
            "text/plain": [
              "0"
            ]
          },
          "metadata": {
            "tags": []
          },
          "execution_count": 77
        }
      ]
    },
    {
      "cell_type": "markdown",
      "metadata": {
        "id": "vPi5hEb_VSZv",
        "colab_type": "text"
      },
      "source": [
        "## 6. Transition Density"
      ]
    },
    {
      "cell_type": "code",
      "metadata": {
        "id": "w3YjwkZjgNCH",
        "colab_type": "code",
        "outputId": "518ffaf9-368c-48c3-bf1a-6392f8b8a714",
        "colab": {
          "base_uri": "https://localhost:8080/",
          "height": 204
        }
      },
      "source": [
        "df_checkin.head()"
      ],
      "execution_count": 0,
      "outputs": [
        {
          "output_type": "execute_result",
          "data": {
            "text/html": [
              "<div>\n",
              "<style scoped>\n",
              "    .dataframe tbody tr th:only-of-type {\n",
              "        vertical-align: middle;\n",
              "    }\n",
              "\n",
              "    .dataframe tbody tr th {\n",
              "        vertical-align: top;\n",
              "    }\n",
              "\n",
              "    .dataframe thead th {\n",
              "        text-align: right;\n",
              "    }\n",
              "</style>\n",
              "<table border=\"1\" class=\"dataframe\">\n",
              "  <thead>\n",
              "    <tr style=\"text-align: right;\">\n",
              "      <th></th>\n",
              "      <th>User_ID</th>\n",
              "      <th>Venue_ID</th>\n",
              "      <th>Venue_category_ID</th>\n",
              "      <th>Venue_category_name</th>\n",
              "      <th>Latitude</th>\n",
              "      <th>Longitude</th>\n",
              "      <th>Timezone_offset</th>\n",
              "      <th>UTC_Time</th>\n",
              "      <th>index</th>\n",
              "    </tr>\n",
              "  </thead>\n",
              "  <tbody>\n",
              "    <tr>\n",
              "      <th>0</th>\n",
              "      <td>470</td>\n",
              "      <td>49bbd6c0f964a520f4531fe3</td>\n",
              "      <td>4bf58dd8d48988d127951735</td>\n",
              "      <td>Arts &amp; Crafts Store</td>\n",
              "      <td>40.719810</td>\n",
              "      <td>-74.002581</td>\n",
              "      <td>-240</td>\n",
              "      <td>2012-04-03 18:00:09+00:00</td>\n",
              "      <td>0</td>\n",
              "    </tr>\n",
              "    <tr>\n",
              "      <th>1</th>\n",
              "      <td>979</td>\n",
              "      <td>4a43c0aef964a520c6a61fe3</td>\n",
              "      <td>4bf58dd8d48988d1df941735</td>\n",
              "      <td>Bridge</td>\n",
              "      <td>40.606800</td>\n",
              "      <td>-74.044170</td>\n",
              "      <td>-240</td>\n",
              "      <td>2012-04-03 18:00:25+00:00</td>\n",
              "      <td>1</td>\n",
              "    </tr>\n",
              "    <tr>\n",
              "      <th>2</th>\n",
              "      <td>69</td>\n",
              "      <td>4c5cc7b485a1e21e00d35711</td>\n",
              "      <td>4bf58dd8d48988d103941735</td>\n",
              "      <td>Home (private)</td>\n",
              "      <td>40.716162</td>\n",
              "      <td>-73.883070</td>\n",
              "      <td>-240</td>\n",
              "      <td>2012-04-03 18:02:24+00:00</td>\n",
              "      <td>2</td>\n",
              "    </tr>\n",
              "    <tr>\n",
              "      <th>3</th>\n",
              "      <td>395</td>\n",
              "      <td>4bc7086715a7ef3bef9878da</td>\n",
              "      <td>4bf58dd8d48988d104941735</td>\n",
              "      <td>Medical Center</td>\n",
              "      <td>40.745164</td>\n",
              "      <td>-73.982519</td>\n",
              "      <td>-240</td>\n",
              "      <td>2012-04-03 18:02:41+00:00</td>\n",
              "      <td>3</td>\n",
              "    </tr>\n",
              "    <tr>\n",
              "      <th>4</th>\n",
              "      <td>87</td>\n",
              "      <td>4cf2c5321d18a143951b5cec</td>\n",
              "      <td>4bf58dd8d48988d1cb941735</td>\n",
              "      <td>Food Truck</td>\n",
              "      <td>40.740104</td>\n",
              "      <td>-73.989658</td>\n",
              "      <td>-240</td>\n",
              "      <td>2012-04-03 18:03:00+00:00</td>\n",
              "      <td>4</td>\n",
              "    </tr>\n",
              "  </tbody>\n",
              "</table>\n",
              "</div>"
            ],
            "text/plain": [
              "   User_ID                  Venue_ID  ...                  UTC_Time index\n",
              "0      470  49bbd6c0f964a520f4531fe3  ... 2012-04-03 18:00:09+00:00     0\n",
              "1      979  4a43c0aef964a520c6a61fe3  ... 2012-04-03 18:00:25+00:00     1\n",
              "2       69  4c5cc7b485a1e21e00d35711  ... 2012-04-03 18:02:24+00:00     2\n",
              "3      395  4bc7086715a7ef3bef9878da  ... 2012-04-03 18:02:41+00:00     3\n",
              "4       87  4cf2c5321d18a143951b5cec  ... 2012-04-03 18:03:00+00:00     4\n",
              "\n",
              "[5 rows x 9 columns]"
            ]
          },
          "metadata": {
            "tags": []
          },
          "execution_count": 38
        }
      ]
    },
    {
      "cell_type": "code",
      "metadata": {
        "id": "Jp759JQ3oW37",
        "colab_type": "code",
        "outputId": "6af3818c-7324-46fc-a39e-a10c30735b60",
        "colab": {
          "base_uri": "https://localhost:8080/",
          "height": 419
        }
      },
      "source": [
        "df_checkin.iloc[:,4:6]"
      ],
      "execution_count": 0,
      "outputs": [
        {
          "output_type": "execute_result",
          "data": {
            "text/html": [
              "<div>\n",
              "<style scoped>\n",
              "    .dataframe tbody tr th:only-of-type {\n",
              "        vertical-align: middle;\n",
              "    }\n",
              "\n",
              "    .dataframe tbody tr th {\n",
              "        vertical-align: top;\n",
              "    }\n",
              "\n",
              "    .dataframe thead th {\n",
              "        text-align: right;\n",
              "    }\n",
              "</style>\n",
              "<table border=\"1\" class=\"dataframe\">\n",
              "  <thead>\n",
              "    <tr style=\"text-align: right;\">\n",
              "      <th></th>\n",
              "      <th>Latitude</th>\n",
              "      <th>Longitude</th>\n",
              "    </tr>\n",
              "  </thead>\n",
              "  <tbody>\n",
              "    <tr>\n",
              "      <th>0</th>\n",
              "      <td>40.719810</td>\n",
              "      <td>-74.002581</td>\n",
              "    </tr>\n",
              "    <tr>\n",
              "      <th>1</th>\n",
              "      <td>40.606800</td>\n",
              "      <td>-74.044170</td>\n",
              "    </tr>\n",
              "    <tr>\n",
              "      <th>2</th>\n",
              "      <td>40.716162</td>\n",
              "      <td>-73.883070</td>\n",
              "    </tr>\n",
              "    <tr>\n",
              "      <th>3</th>\n",
              "      <td>40.745164</td>\n",
              "      <td>-73.982519</td>\n",
              "    </tr>\n",
              "    <tr>\n",
              "      <th>4</th>\n",
              "      <td>40.740104</td>\n",
              "      <td>-73.989658</td>\n",
              "    </tr>\n",
              "    <tr>\n",
              "      <th>...</th>\n",
              "      <td>...</td>\n",
              "      <td>...</td>\n",
              "    </tr>\n",
              "    <tr>\n",
              "      <th>9995</th>\n",
              "      <td>40.775186</td>\n",
              "      <td>-73.963302</td>\n",
              "    </tr>\n",
              "    <tr>\n",
              "      <th>9996</th>\n",
              "      <td>40.773502</td>\n",
              "      <td>-73.981026</td>\n",
              "    </tr>\n",
              "    <tr>\n",
              "      <th>9997</th>\n",
              "      <td>40.755661</td>\n",
              "      <td>-73.975389</td>\n",
              "    </tr>\n",
              "    <tr>\n",
              "      <th>9998</th>\n",
              "      <td>40.766741</td>\n",
              "      <td>-73.982156</td>\n",
              "    </tr>\n",
              "    <tr>\n",
              "      <th>9999</th>\n",
              "      <td>40.754174</td>\n",
              "      <td>-73.971846</td>\n",
              "    </tr>\n",
              "  </tbody>\n",
              "</table>\n",
              "<p>10000 rows × 2 columns</p>\n",
              "</div>"
            ],
            "text/plain": [
              "       Latitude  Longitude\n",
              "0     40.719810 -74.002581\n",
              "1     40.606800 -74.044170\n",
              "2     40.716162 -73.883070\n",
              "3     40.745164 -73.982519\n",
              "4     40.740104 -73.989658\n",
              "...         ...        ...\n",
              "9995  40.775186 -73.963302\n",
              "9996  40.773502 -73.981026\n",
              "9997  40.755661 -73.975389\n",
              "9998  40.766741 -73.982156\n",
              "9999  40.754174 -73.971846\n",
              "\n",
              "[10000 rows x 2 columns]"
            ]
          },
          "metadata": {
            "tags": []
          },
          "execution_count": 39
        }
      ]
    },
    {
      "cell_type": "code",
      "metadata": {
        "id": "tppXY0dxVu0X",
        "colab_type": "code",
        "colab": {}
      },
      "source": [
        "x=[tuple(i) for i in count_df_locations.iloc[:,1:-1].values]"
      ],
      "execution_count": 0,
      "outputs": []
    },
    {
      "cell_type": "code",
      "metadata": {
        "id": "nT4U6lqyn6fK",
        "colab_type": "code",
        "outputId": "13a44be3-d5d9-41ba-b4aa-a394a8077db1",
        "colab": {
          "base_uri": "https://localhost:8080/",
          "height": 119
        }
      },
      "source": [
        "df_checkin['Location']=[tuple(i) for i in df_checkin.iloc[:,4:6].values]"
      ],
      "execution_count": 0,
      "outputs": [
        {
          "output_type": "stream",
          "text": [
            "/usr/local/lib/python3.6/dist-packages/ipykernel_launcher.py:1: SettingWithCopyWarning: \n",
            "A value is trying to be set on a copy of a slice from a DataFrame.\n",
            "Try using .loc[row_indexer,col_indexer] = value instead\n",
            "\n",
            "See the caveats in the documentation: http://pandas.pydata.org/pandas-docs/stable/user_guide/indexing.html#returning-a-view-versus-a-copy\n",
            "  \"\"\"Entry point for launching an IPython kernel.\n"
          ],
          "name": "stderr"
        }
      ]
    },
    {
      "cell_type": "code",
      "metadata": {
        "id": "pc7UqAdboqI1",
        "colab_type": "code",
        "outputId": "eb8a0d67-61e9-4aa2-d876-3e0497e9f7ab",
        "colab": {
          "base_uri": "https://localhost:8080/",
          "height": 609
        }
      },
      "source": [
        "df_checkin"
      ],
      "execution_count": 0,
      "outputs": [
        {
          "output_type": "execute_result",
          "data": {
            "text/html": [
              "<div>\n",
              "<style scoped>\n",
              "    .dataframe tbody tr th:only-of-type {\n",
              "        vertical-align: middle;\n",
              "    }\n",
              "\n",
              "    .dataframe tbody tr th {\n",
              "        vertical-align: top;\n",
              "    }\n",
              "\n",
              "    .dataframe thead th {\n",
              "        text-align: right;\n",
              "    }\n",
              "</style>\n",
              "<table border=\"1\" class=\"dataframe\">\n",
              "  <thead>\n",
              "    <tr style=\"text-align: right;\">\n",
              "      <th></th>\n",
              "      <th>User_ID</th>\n",
              "      <th>Venue_ID</th>\n",
              "      <th>Venue_category_ID</th>\n",
              "      <th>Venue_category_name</th>\n",
              "      <th>Latitude</th>\n",
              "      <th>Longitude</th>\n",
              "      <th>Timezone_offset</th>\n",
              "      <th>UTC_Time</th>\n",
              "      <th>index</th>\n",
              "      <th>Location</th>\n",
              "    </tr>\n",
              "  </thead>\n",
              "  <tbody>\n",
              "    <tr>\n",
              "      <th>0</th>\n",
              "      <td>470</td>\n",
              "      <td>49bbd6c0f964a520f4531fe3</td>\n",
              "      <td>4bf58dd8d48988d127951735</td>\n",
              "      <td>Arts &amp; Crafts Store</td>\n",
              "      <td>40.719810</td>\n",
              "      <td>-74.002581</td>\n",
              "      <td>-240</td>\n",
              "      <td>2012-04-03 18:00:09+00:00</td>\n",
              "      <td>0</td>\n",
              "      <td>(40.71981037548853, -74.00258103213994)</td>\n",
              "    </tr>\n",
              "    <tr>\n",
              "      <th>1</th>\n",
              "      <td>979</td>\n",
              "      <td>4a43c0aef964a520c6a61fe3</td>\n",
              "      <td>4bf58dd8d48988d1df941735</td>\n",
              "      <td>Bridge</td>\n",
              "      <td>40.606800</td>\n",
              "      <td>-74.044170</td>\n",
              "      <td>-240</td>\n",
              "      <td>2012-04-03 18:00:25+00:00</td>\n",
              "      <td>1</td>\n",
              "      <td>(40.606799581406435, -74.04416981025437)</td>\n",
              "    </tr>\n",
              "    <tr>\n",
              "      <th>2</th>\n",
              "      <td>69</td>\n",
              "      <td>4c5cc7b485a1e21e00d35711</td>\n",
              "      <td>4bf58dd8d48988d103941735</td>\n",
              "      <td>Home (private)</td>\n",
              "      <td>40.716162</td>\n",
              "      <td>-73.883070</td>\n",
              "      <td>-240</td>\n",
              "      <td>2012-04-03 18:02:24+00:00</td>\n",
              "      <td>2</td>\n",
              "      <td>(40.71616168484322, -73.88307005845945)</td>\n",
              "    </tr>\n",
              "    <tr>\n",
              "      <th>3</th>\n",
              "      <td>395</td>\n",
              "      <td>4bc7086715a7ef3bef9878da</td>\n",
              "      <td>4bf58dd8d48988d104941735</td>\n",
              "      <td>Medical Center</td>\n",
              "      <td>40.745164</td>\n",
              "      <td>-73.982519</td>\n",
              "      <td>-240</td>\n",
              "      <td>2012-04-03 18:02:41+00:00</td>\n",
              "      <td>3</td>\n",
              "      <td>(40.7451638, -73.982518775)</td>\n",
              "    </tr>\n",
              "    <tr>\n",
              "      <th>4</th>\n",
              "      <td>87</td>\n",
              "      <td>4cf2c5321d18a143951b5cec</td>\n",
              "      <td>4bf58dd8d48988d1cb941735</td>\n",
              "      <td>Food Truck</td>\n",
              "      <td>40.740104</td>\n",
              "      <td>-73.989658</td>\n",
              "      <td>-240</td>\n",
              "      <td>2012-04-03 18:03:00+00:00</td>\n",
              "      <td>4</td>\n",
              "      <td>(40.74010382743943, -73.98965835571289)</td>\n",
              "    </tr>\n",
              "    <tr>\n",
              "      <th>...</th>\n",
              "      <td>...</td>\n",
              "      <td>...</td>\n",
              "      <td>...</td>\n",
              "      <td>...</td>\n",
              "      <td>...</td>\n",
              "      <td>...</td>\n",
              "      <td>...</td>\n",
              "      <td>...</td>\n",
              "      <td>...</td>\n",
              "      <td>...</td>\n",
              "    </tr>\n",
              "    <tr>\n",
              "      <th>9995</th>\n",
              "      <td>389</td>\n",
              "      <td>4b37853af964a520c54125e3</td>\n",
              "      <td>4bf58dd8d48988d1fa931735</td>\n",
              "      <td>Hotel</td>\n",
              "      <td>40.775186</td>\n",
              "      <td>-73.963302</td>\n",
              "      <td>-240</td>\n",
              "      <td>2012-04-11 17:06:11+00:00</td>\n",
              "      <td>9995</td>\n",
              "      <td>(40.77518644745349, -73.96330162882805)</td>\n",
              "    </tr>\n",
              "    <tr>\n",
              "      <th>9996</th>\n",
              "      <td>663</td>\n",
              "      <td>4baa673bf964a520d8663ae3</td>\n",
              "      <td>4bf58dd8d48988d124941735</td>\n",
              "      <td>Office</td>\n",
              "      <td>40.773502</td>\n",
              "      <td>-73.981026</td>\n",
              "      <td>-240</td>\n",
              "      <td>2012-04-11 17:08:18+00:00</td>\n",
              "      <td>9996</td>\n",
              "      <td>(40.77350198619314, -73.98102578853477)</td>\n",
              "    </tr>\n",
              "    <tr>\n",
              "      <th>9997</th>\n",
              "      <td>217</td>\n",
              "      <td>4d93828762ad5481a4cd834b</td>\n",
              "      <td>4bf58dd8d48988d124941735</td>\n",
              "      <td>Office</td>\n",
              "      <td>40.755661</td>\n",
              "      <td>-73.975389</td>\n",
              "      <td>-240</td>\n",
              "      <td>2012-04-11 17:08:38+00:00</td>\n",
              "      <td>9997</td>\n",
              "      <td>(40.75566091379096, -73.97538900375365)</td>\n",
              "    </tr>\n",
              "    <tr>\n",
              "      <th>9998</th>\n",
              "      <td>1066</td>\n",
              "      <td>4ae0e652f964a520818321e3</td>\n",
              "      <td>4bf58dd8d48988d1ed941735</td>\n",
              "      <td>Spa / Massage</td>\n",
              "      <td>40.766741</td>\n",
              "      <td>-73.982156</td>\n",
              "      <td>-240</td>\n",
              "      <td>2012-04-11 17:09:12+00:00</td>\n",
              "      <td>9998</td>\n",
              "      <td>(40.76674068362153, -73.98215640859391)</td>\n",
              "    </tr>\n",
              "    <tr>\n",
              "      <th>9999</th>\n",
              "      <td>1079</td>\n",
              "      <td>4af8875bf964a5200c0e22e3</td>\n",
              "      <td>4bf58dd8d48988d1c5941735</td>\n",
              "      <td>Sandwich Place</td>\n",
              "      <td>40.754174</td>\n",
              "      <td>-73.971846</td>\n",
              "      <td>-240</td>\n",
              "      <td>2012-04-11 17:09:13+00:00</td>\n",
              "      <td>9999</td>\n",
              "      <td>(40.754174, -73.971846)</td>\n",
              "    </tr>\n",
              "  </tbody>\n",
              "</table>\n",
              "<p>10000 rows × 10 columns</p>\n",
              "</div>"
            ],
            "text/plain": [
              "      User_ID  ...                                  Location\n",
              "0         470  ...   (40.71981037548853, -74.00258103213994)\n",
              "1         979  ...  (40.606799581406435, -74.04416981025437)\n",
              "2          69  ...   (40.71616168484322, -73.88307005845945)\n",
              "3         395  ...               (40.7451638, -73.982518775)\n",
              "4          87  ...   (40.74010382743943, -73.98965835571289)\n",
              "...       ...  ...                                       ...\n",
              "9995      389  ...   (40.77518644745349, -73.96330162882805)\n",
              "9996      663  ...   (40.77350198619314, -73.98102578853477)\n",
              "9997      217  ...   (40.75566091379096, -73.97538900375365)\n",
              "9998     1066  ...   (40.76674068362153, -73.98215640859391)\n",
              "9999     1079  ...                   (40.754174, -73.971846)\n",
              "\n",
              "[10000 rows x 10 columns]"
            ]
          },
          "metadata": {
            "tags": []
          },
          "execution_count": 42
        }
      ]
    },
    {
      "cell_type": "code",
      "metadata": {
        "id": "P2dSdVazf9oa",
        "colab_type": "code",
        "outputId": "f142c9f9-7c22-430f-a32b-a026b0a51879",
        "colab": {
          "base_uri": "https://localhost:8080/",
          "height": 693
        }
      },
      "source": [
        "df_checkin[df_checkin['User_ID']==87]"
      ],
      "execution_count": 0,
      "outputs": [
        {
          "output_type": "execute_result",
          "data": {
            "text/html": [
              "<div>\n",
              "<style scoped>\n",
              "    .dataframe tbody tr th:only-of-type {\n",
              "        vertical-align: middle;\n",
              "    }\n",
              "\n",
              "    .dataframe tbody tr th {\n",
              "        vertical-align: top;\n",
              "    }\n",
              "\n",
              "    .dataframe thead th {\n",
              "        text-align: right;\n",
              "    }\n",
              "</style>\n",
              "<table border=\"1\" class=\"dataframe\">\n",
              "  <thead>\n",
              "    <tr style=\"text-align: right;\">\n",
              "      <th></th>\n",
              "      <th>User_ID</th>\n",
              "      <th>Venue_ID</th>\n",
              "      <th>Venue_category_ID</th>\n",
              "      <th>Venue_category_name</th>\n",
              "      <th>Latitude</th>\n",
              "      <th>Longitude</th>\n",
              "      <th>Timezone_offset</th>\n",
              "      <th>UTC_Time</th>\n",
              "      <th>index</th>\n",
              "      <th>Location</th>\n",
              "    </tr>\n",
              "  </thead>\n",
              "  <tbody>\n",
              "    <tr>\n",
              "      <th>4</th>\n",
              "      <td>87</td>\n",
              "      <td>4cf2c5321d18a143951b5cec</td>\n",
              "      <td>4bf58dd8d48988d1cb941735</td>\n",
              "      <td>Food Truck</td>\n",
              "      <td>40.740104</td>\n",
              "      <td>-73.989658</td>\n",
              "      <td>-240</td>\n",
              "      <td>2012-04-03 18:03:00+00:00</td>\n",
              "      <td>4</td>\n",
              "      <td>(40.74010382743943, -73.98965835571289)</td>\n",
              "    </tr>\n",
              "    <tr>\n",
              "      <th>10</th>\n",
              "      <td>87</td>\n",
              "      <td>4d8263a73e916dcb8edd80d2</td>\n",
              "      <td>4bf58dd8d48988d155941735</td>\n",
              "      <td>Gastropub</td>\n",
              "      <td>40.743483</td>\n",
              "      <td>-73.994009</td>\n",
              "      <td>-240</td>\n",
              "      <td>2012-04-03 18:07:15+00:00</td>\n",
              "      <td>10</td>\n",
              "      <td>(40.74348254, -73.99400899999999)</td>\n",
              "    </tr>\n",
              "    <tr>\n",
              "      <th>3001</th>\n",
              "      <td>87</td>\n",
              "      <td>40b68100f964a5207d001fe3</td>\n",
              "      <td>4bf58dd8d48988d163941735</td>\n",
              "      <td>Park</td>\n",
              "      <td>40.742188</td>\n",
              "      <td>-73.987924</td>\n",
              "      <td>-240</td>\n",
              "      <td>2012-04-06 14:45:49+00:00</td>\n",
              "      <td>3001</td>\n",
              "      <td>(40.74218830848454, -73.98792418909154)</td>\n",
              "    </tr>\n",
              "    <tr>\n",
              "      <th>3058</th>\n",
              "      <td>87</td>\n",
              "      <td>4e6122c0e4cdf1e2bebadc68</td>\n",
              "      <td>4bf58dd8d48988d124941735</td>\n",
              "      <td>Office</td>\n",
              "      <td>40.754117</td>\n",
              "      <td>-73.979874</td>\n",
              "      <td>-240</td>\n",
              "      <td>2012-04-06 15:32:59+00:00</td>\n",
              "      <td>3058</td>\n",
              "      <td>(40.754116747135726, -73.97987365722656)</td>\n",
              "    </tr>\n",
              "    <tr>\n",
              "      <th>6523</th>\n",
              "      <td>87</td>\n",
              "      <td>4edcd3198231efe39240ba6f</td>\n",
              "      <td>4bf58dd8d48988d124941735</td>\n",
              "      <td>Office</td>\n",
              "      <td>40.749262</td>\n",
              "      <td>-73.983981</td>\n",
              "      <td>-240</td>\n",
              "      <td>2012-04-09 14:16:55+00:00</td>\n",
              "      <td>6523</td>\n",
              "      <td>(40.74926221909231, -73.9839814563788)</td>\n",
              "    </tr>\n",
              "    <tr>\n",
              "      <th>6708</th>\n",
              "      <td>87</td>\n",
              "      <td>4f27112ae4b0d10db310bf14</td>\n",
              "      <td>4bf58dd8d48988d107951735</td>\n",
              "      <td>Clothing Store</td>\n",
              "      <td>40.738185</td>\n",
              "      <td>-73.992182</td>\n",
              "      <td>-240</td>\n",
              "      <td>2012-04-09 16:24:45+00:00</td>\n",
              "      <td>6708</td>\n",
              "      <td>(40.738185367290185, -73.99218247901545)</td>\n",
              "    </tr>\n",
              "    <tr>\n",
              "      <th>8103</th>\n",
              "      <td>87</td>\n",
              "      <td>4ac915d4f964a52085be20e3</td>\n",
              "      <td>4bf58dd8d48988d179941735</td>\n",
              "      <td>Bagel Shop</td>\n",
              "      <td>40.756126</td>\n",
              "      <td>-73.964462</td>\n",
              "      <td>-240</td>\n",
              "      <td>2012-04-10 10:42:03+00:00</td>\n",
              "      <td>8103</td>\n",
              "      <td>(40.756125558705904, -73.96446172990993)</td>\n",
              "    </tr>\n",
              "    <tr>\n",
              "      <th>8108</th>\n",
              "      <td>87</td>\n",
              "      <td>4b5200d2f964a520946027e3</td>\n",
              "      <td>4bf58dd8d48988d16d941735</td>\n",
              "      <td>Café</td>\n",
              "      <td>40.756216</td>\n",
              "      <td>-73.964284</td>\n",
              "      <td>-240</td>\n",
              "      <td>2012-04-10 10:47:36+00:00</td>\n",
              "      <td>8108</td>\n",
              "      <td>(40.75621625245672, -73.96428379916298)</td>\n",
              "    </tr>\n",
              "    <tr>\n",
              "      <th>8711</th>\n",
              "      <td>87</td>\n",
              "      <td>49f1e5bff964a520c4691fe3</td>\n",
              "      <td>4bf58dd8d48988d123941735</td>\n",
              "      <td>Bar</td>\n",
              "      <td>40.739386</td>\n",
              "      <td>-73.991850</td>\n",
              "      <td>-240</td>\n",
              "      <td>2012-04-10 22:22:38+00:00</td>\n",
              "      <td>8711</td>\n",
              "      <td>(40.739385999999996, -73.99185)</td>\n",
              "    </tr>\n",
              "    <tr>\n",
              "      <th>9370</th>\n",
              "      <td>87</td>\n",
              "      <td>3fd66200f964a52003e81ee3</td>\n",
              "      <td>4bf58dd8d48988d1d5941735</td>\n",
              "      <td>Hotel</td>\n",
              "      <td>40.756119</td>\n",
              "      <td>-73.972532</td>\n",
              "      <td>-240</td>\n",
              "      <td>2012-04-11 03:58:05+00:00</td>\n",
              "      <td>9370</td>\n",
              "      <td>(40.75611913826422, -73.97253157753975)</td>\n",
              "    </tr>\n",
              "    <tr>\n",
              "      <th>9427</th>\n",
              "      <td>87</td>\n",
              "      <td>4c082c5a340720a116b98293</td>\n",
              "      <td>4bf58dd8d48988d11b941735</td>\n",
              "      <td>Bar</td>\n",
              "      <td>40.756087</td>\n",
              "      <td>-73.967590</td>\n",
              "      <td>-240</td>\n",
              "      <td>2012-04-11 04:59:48+00:00</td>\n",
              "      <td>9427</td>\n",
              "      <td>(40.7560872511761, -73.96758984041037)</td>\n",
              "    </tr>\n",
              "    <tr>\n",
              "      <th>9848</th>\n",
              "      <td>87</td>\n",
              "      <td>49b79f54f964a5202c531fe3</td>\n",
              "      <td>4bf58dd8d48988d164941735</td>\n",
              "      <td>Plaza</td>\n",
              "      <td>40.758728</td>\n",
              "      <td>-73.978558</td>\n",
              "      <td>-240</td>\n",
              "      <td>2012-04-11 15:35:14+00:00</td>\n",
              "      <td>9848</td>\n",
              "      <td>(40.758728399405584, -73.97855791454387)</td>\n",
              "    </tr>\n",
              "    <tr>\n",
              "      <th>9863</th>\n",
              "      <td>87</td>\n",
              "      <td>4ab2c0ccf964a5202d6c20e3</td>\n",
              "      <td>4bf58dd8d48988d1f8941735</td>\n",
              "      <td>Furniture / Home Store</td>\n",
              "      <td>40.740803</td>\n",
              "      <td>-73.989778</td>\n",
              "      <td>-240</td>\n",
              "      <td>2012-04-11 15:47:23+00:00</td>\n",
              "      <td>9863</td>\n",
              "      <td>(40.74080321767426, -73.9897778767785)</td>\n",
              "    </tr>\n",
              "  </tbody>\n",
              "</table>\n",
              "</div>"
            ],
            "text/plain": [
              "      User_ID  ...                                  Location\n",
              "4          87  ...   (40.74010382743943, -73.98965835571289)\n",
              "10         87  ...         (40.74348254, -73.99400899999999)\n",
              "3001       87  ...   (40.74218830848454, -73.98792418909154)\n",
              "3058       87  ...  (40.754116747135726, -73.97987365722656)\n",
              "6523       87  ...    (40.74926221909231, -73.9839814563788)\n",
              "6708       87  ...  (40.738185367290185, -73.99218247901545)\n",
              "8103       87  ...  (40.756125558705904, -73.96446172990993)\n",
              "8108       87  ...   (40.75621625245672, -73.96428379916298)\n",
              "8711       87  ...           (40.739385999999996, -73.99185)\n",
              "9370       87  ...   (40.75611913826422, -73.97253157753975)\n",
              "9427       87  ...    (40.7560872511761, -73.96758984041037)\n",
              "9848       87  ...  (40.758728399405584, -73.97855791454387)\n",
              "9863       87  ...    (40.74080321767426, -73.9897778767785)\n",
              "\n",
              "[13 rows x 10 columns]"
            ]
          },
          "metadata": {
            "tags": []
          },
          "execution_count": 43
        }
      ]
    },
    {
      "cell_type": "code",
      "metadata": {
        "id": "EAlbL8q2Tjii",
        "colab_type": "code",
        "outputId": "7d9dfc8c-5cc8-44e7-dcb2-7e14e736941d",
        "colab": {
          "base_uri": "https://localhost:8080/",
          "height": 1000
        }
      },
      "source": [
        "df_checkin['User_ID'].unique()"
      ],
      "execution_count": 0,
      "outputs": [
        {
          "output_type": "execute_result",
          "data": {
            "text/plain": [
              "array([ 470,  979,   69,  395,   87,  484,  642,  292,  428,  877,  625,\n",
              "        691,  116,  931,   53,  445,  135,  895,  704,  891,  284,  901,\n",
              "        803,  699,  100,  443,  689,  390,   32,  230,  834,  962, 1032,\n",
              "        525,  318, 1047,  738,  364,  398,  839,  424,  751,  889,  612,\n",
              "        643,  718,  768,   15,  458,  280, 1016,  281,  366,  276,  227,\n",
              "         80,  673,  337,  916,  639,  752,  713,  449, 1012,  749,  438,\n",
              "        217,  656,  225,  628,  504,  226,  164,  235,  118, 1054,  881,\n",
              "        706,  143, 1005,  912,  537,  406,  868, 1055,  907,  303,  793,\n",
              "        784,  734,  540,  816,  623,  950,  294,  615,  385,  173,  801,\n",
              "         16,  467,    7,  592,  669,  574,  436,  636,  865,  621,  272,\n",
              "       1063,  591,  976,  562,  783,  319,  468,  874,  107,  667,  557,\n",
              "        725,  774,  880,  288,  335,  769,  194,  403,  573,  346,  968,\n",
              "        539,  184,  144,   71,  688,   65,  885,  267,  820,  516,  176,\n",
              "        528,   30,  246,  515,  710,  145,  498,  894,  313,  120,  798,\n",
              "        598, 1078,  195,   59,  662,  425,  756,  553,  702,  620,   84,\n",
              "        129,  256,  864,  658,  951,  809,  817,  371,  121,  204,  420,\n",
              "         49,   50,   29,  519,  340, 1010,  117, 1034,  391,  526,  645,\n",
              "        258,  758,  653,  611,   47,  192,  455,  577,  984, 1025,  354,\n",
              "        373,  902,  571,  440,  987,  185,  559,  786,  279,  264,  529,\n",
              "        131,  101,  207,   78,  943,  179,  469,    4,  444,  586,  381,\n",
              "        510, 1044,  572, 1072,  766,  162,  299,  652,  315,  637,   12,\n",
              "        787,  300,  633,  883, 1002,  672,  973,  316, 1026,  597,  307,\n",
              "        422,  365,  805,  905,  940,  359,  191,  130,  186,  692, 1009,\n",
              "        806,  418, 1076,  842,  125,  474,   26,  777,   90,  989,  715,\n",
              "        139,  593,  324,  328,  402,   57,  221,  198,  772,  408,  535,\n",
              "        818,  187,  242,  994,  509,  969,  861,  389,  799,  955,  361,\n",
              "        296,  378,   85,  826,  475,  134,  149,   54,  650,  432,  386,\n",
              "        626,  215,   17, 1013,  848,  188,  434,   14,  788,  854,  985,\n",
              "       1083,  113,  415,  649,  208,  556,  619,  990,  722, 1042,  480,\n",
              "         79,  362,  495, 1040,  530,  169, 1059,  311,  500,  251,  995,\n",
              "        733,  367,  824, 1070,  903,  417,  770,  800,  312,  957,  936,\n",
              "        721,  291,  370,  387,  218,  271,  348,  152,  964,  802, 1082,\n",
              "        287,  682,  108,    3,  297,   74,  338,   21,  917,  882,  599,\n",
              "        158,  293,  170, 1066,  520,  971,  255,  511,  463,  254,  234,\n",
              "        797,  290,  792,  339,  884, 1064,  746,  946,  148,  427,  582,\n",
              "       1024,  614,  347,  372,  565,  273,  114,  259,  501, 1071,  405,\n",
              "        527,  890,  282,  492,  857,  301,  827,  400,  677,   56,  534,\n",
              "        804,  167,  505,  570,  887,  203,  265,  925,  518,  180, 1079,\n",
              "        922,  663,  524,  238,  161,  578,  844, 1029,  697,  392,  360,\n",
              "        906, 1014,  102, 1060,  448,  105,  496,   81,  742,  981,  404,\n",
              "         10,  343,  698,  216,  363,  136,   73,  632,  531,  317,  728,\n",
              "        660, 1033,  584,  871,   44,  952,  320,  996,  837,   34,  248,\n",
              "        947,  629,  493,   70,  413,  439,  678,  983,  948,  181,  829,\n",
              "        419, 1074,  965,  859,  260,  970,  244, 1021,  855,  396,  175,\n",
              "        241,  285,  869,   83,  879, 1001,  521,   95,  409,  778,  275,\n",
              "        727,  456, 1018,  708,  119,   24,  356,  331,  465,  412,  379,\n",
              "         40,  953,  132,   96,  705,  228,  604,  762,  918,  739,  240,\n",
              "        233,  489,  561,  309,  153,  453,  344,  250,  654,  941,  541,\n",
              "        958,  686,  579,  549,  190,   46,  423,  560,  357,  202,  446,\n",
              "        473,  269,  141,  247,  499,  397,  332,  104,  349, 1051,  853,\n",
              "        155,  171,  651,  696, 1011,  277, 1030,  124,  847,  878,  322,\n",
              "        407,  212,  314, 1038,    2,  261, 1075,  298,  657,  851,    9,\n",
              "        731,  813,  310,  126,  481,   23,  695,  568,   58,  305, 1065,\n",
              "         52,  388,  128,  491,  452,  110,  231,  355,  159,  627,  680,\n",
              "        701,  461, 1073,  836,  471,  375,  543,   43,  999,  243,  533,\n",
              "        140,  514,  283,  334,  956,  819,  503,  630,  666,  601,  610,\n",
              "        606,  566,  178, 1031,  937,  274,  967,  512, 1049, 1027,  196,\n",
              "        374,  482,  563,   60,  631, 1057,  908,   55, 1068,  830,  575,\n",
              "        210,  182,  304,  383,  229,  457,  674,  564,  166, 1019,  693,\n",
              "        368,  414,  724,  483,  608,  433,  616,  870,    1,  353,  933,\n",
              "        536,  323,   33,  508,  358,  949,  163,  115,  327,  913,  333,\n",
              "         51,   61,  377,  659,   97,  401,  858,  833,  342,  846,  206,\n",
              "        478,  122,   63,  308,  683,  581,  856, 1080,  253,  791,  507,\n",
              "         62,  464,  306,  648,  972,   75,  982,  376,  278,  888,  160,\n",
              "        750,  609,   48,  763,  942,  684,  603,  717,  767, 1053,   37,\n",
              "        927,   86,  986,  707,  893,  723,  380,  245,  624,  431,  831,\n",
              "        454, 1048,  214,  945,  744,  622,  992,  977,  759,  270,  781,\n",
              "        811,  668,  133, 1058,  812, 1023,  690,  532,  399, 1003,  840,\n",
              "         92, 1028,  825, 1007,  513,  329,  679,  607,  576,  544,  712,\n",
              "        345,  112,   39,  737,  330, 1015, 1052,  716,  892,  776,   19,\n",
              "         76,  897,  352,  635,  252,  211, 1041,  123,  647,   72,  594,\n",
              "        975,  569,  220, 1036,  873,  222,  295,   20,  138,  828,  638,\n",
              "        410, 1069,  644,  780,  974,  703,  726,  554,  289,  183,  150,\n",
              "       1000,  462,  939,  384,   45,  904,  863, 1045,  714,  213,  613,\n",
              "       1020,  745,   94,  257,  814,  823,   93,  237,  822,   18,  980,\n",
              "        694,  661,  760,  785,  735,  466,  590,  435,  736,   42,  393,\n",
              "       1039,  909,  177,  588,   91,  929,  910,  646, 1062,  421, 1006])"
            ]
          },
          "metadata": {
            "tags": []
          },
          "execution_count": 44
        }
      ]
    },
    {
      "cell_type": "code",
      "metadata": {
        "id": "Slgy8T3tUffm",
        "colab_type": "code",
        "outputId": "812c4755-500e-4d39-9708-ee9e8af0b771",
        "colab": {
          "base_uri": "https://localhost:8080/",
          "height": 34
        }
      },
      "source": [
        "lst[0][0]"
      ],
      "execution_count": 0,
      "outputs": [
        {
          "output_type": "execute_result",
          "data": {
            "text/plain": [
              "(40.684159398078926, -73.954289)"
            ]
          },
          "metadata": {
            "tags": []
          },
          "execution_count": 45
        }
      ]
    },
    {
      "cell_type": "code",
      "metadata": {
        "id": "ym-YnBwUUvy4",
        "colab_type": "code",
        "outputId": "72a4a70a-5c38-4d8d-927c-714e3fe4bac4",
        "colab": {
          "base_uri": "https://localhost:8080/",
          "height": 221
        }
      },
      "source": [
        "df_checkin['Location']"
      ],
      "execution_count": 0,
      "outputs": [
        {
          "output_type": "execute_result",
          "data": {
            "text/plain": [
              "0        (40.71981037548853, -74.00258103213994)\n",
              "1       (40.606799581406435, -74.04416981025437)\n",
              "2        (40.71616168484322, -73.88307005845945)\n",
              "3                    (40.7451638, -73.982518775)\n",
              "4        (40.74010382743943, -73.98965835571289)\n",
              "                          ...                   \n",
              "9995     (40.77518644745349, -73.96330162882805)\n",
              "9996     (40.77350198619314, -73.98102578853477)\n",
              "9997     (40.75566091379096, -73.97538900375365)\n",
              "9998     (40.76674068362153, -73.98215640859391)\n",
              "9999                     (40.754174, -73.971846)\n",
              "Name: Location, Length: 10000, dtype: object"
            ]
          },
          "metadata": {
            "tags": []
          },
          "execution_count": 46
        }
      ]
    },
    {
      "cell_type": "code",
      "metadata": {
        "id": "fWJod6CUkURr",
        "colab_type": "code",
        "outputId": "4a280f42-129a-4be2-e413-de643ab6cade",
        "colab": {
          "base_uri": "https://localhost:8080/",
          "height": 49
        }
      },
      "source": [
        "temp_df"
      ],
      "execution_count": 0,
      "outputs": [
        {
          "output_type": "execute_result",
          "data": {
            "text/html": [
              "<div>\n",
              "<style scoped>\n",
              "    .dataframe tbody tr th:only-of-type {\n",
              "        vertical-align: middle;\n",
              "    }\n",
              "\n",
              "    .dataframe tbody tr th {\n",
              "        vertical-align: top;\n",
              "    }\n",
              "\n",
              "    .dataframe thead th {\n",
              "        text-align: right;\n",
              "    }\n",
              "</style>\n",
              "<table border=\"1\" class=\"dataframe\">\n",
              "  <thead>\n",
              "    <tr style=\"text-align: right;\">\n",
              "      <th></th>\n",
              "      <th>level_0</th>\n",
              "      <th>User_ID</th>\n",
              "      <th>Venue_ID</th>\n",
              "      <th>Venue_category_ID</th>\n",
              "      <th>Venue_category_name</th>\n",
              "      <th>Latitude</th>\n",
              "      <th>Longitude</th>\n",
              "      <th>Timezone_offset</th>\n",
              "      <th>UTC_Time</th>\n",
              "      <th>index</th>\n",
              "      <th>Location</th>\n",
              "    </tr>\n",
              "  </thead>\n",
              "  <tbody>\n",
              "  </tbody>\n",
              "</table>\n",
              "</div>"
            ],
            "text/plain": [
              "Empty DataFrame\n",
              "Columns: [level_0, User_ID, Venue_ID, Venue_category_ID, Venue_category_name, Latitude, Longitude, Timezone_offset, UTC_Time, index, Location]\n",
              "Index: []"
            ]
          },
          "metadata": {
            "tags": []
          },
          "execution_count": 161
        }
      ]
    },
    {
      "cell_type": "code",
      "metadata": {
        "id": "54eWGhe4kasr",
        "colab_type": "code",
        "colab": {}
      },
      "source": [
        "def get_count(temp_df):\n",
        "  count=0\n",
        "  for i in range(len(temp_df)):\n",
        "    for j in range(1,len(temp_df)):\n",
        "      if(temp_df.Location[i]!=temp_df.Location[j] and (0<=(temp_df['UTC_Time'][j]- temp_df['UTC_Time'][i]).days<=1)):\n",
        "        #print(i,j)\n",
        "        count+=1\n",
        "        print(\"count:\",count)\n",
        "  return(count)"
      ],
      "execution_count": 0,
      "outputs": []
    }
  ]
}